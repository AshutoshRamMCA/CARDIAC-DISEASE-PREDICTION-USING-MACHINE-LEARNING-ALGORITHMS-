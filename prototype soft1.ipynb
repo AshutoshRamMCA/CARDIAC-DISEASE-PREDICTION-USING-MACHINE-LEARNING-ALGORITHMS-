{
  "cells": [
    {
      "cell_type": "markdown",
      "id": "5a14624e-8661-421e-ad0a-bd222a7f0364",
      "metadata": {
        "id": "5a14624e-8661-421e-ad0a-bd222a7f0364"
      },
      "source": [
        "# Minor Project \n",
        "## Cardiac Disease Prediction Model\n",
        "\n",
        "Dataset used: Kaggle Heart Disease dataset\n",
        "\n",
        "Contributed by: Sayaraj Kundu, Ashutosh Ram,Subhajit Mondal, Dipayan Chowdhury \n",
        "\n"
      ]
    },
    {
      "cell_type": "markdown",
      "id": "22c0a156-450f-4056-af82-a1142742d178",
      "metadata": {
        "id": "22c0a156-450f-4056-af82-a1142742d178"
      },
      "source": [
        "## Objective\n",
        "Create a machine learning model using logistic regression or decision tree or random forest and Kaggle Heart Disease Prediction dataset to predict the heart condition with various factors related to heart."
      ]
    },
    {
      "cell_type": "markdown",
      "id": "f1b4b08d-e149-4558-8cf6-506f4c271cdb",
      "metadata": {
        "id": "f1b4b08d-e149-4558-8cf6-506f4c271cdb",
        "tags": []
      },
      "source": [
        "## ML Overview\n",
        "\n",
        "Machine learning is a branch of artificial intelligence that enables computers to learn and adapt similar to how humans learn. It is the ability of a machine to detect patterns in data and learn from it so as to be able to take action accordingly. Machine learning algorithms are trained on datasets so they can make ‘informed’ decisions based on the information they have learned. This project covers an overview of what machine learning is, its types and examples of use cases for businesses.\n",
        "\n",
        "In this project we will use supervised learning (a branch of machine learning where we teach our model with well-labelled data).\n",
        "We will start with a simple Logistic Regressesion model and predict the target variable, and then move forward with the comparison between other similar models."
      ]
    },
    {
      "cell_type": "markdown",
      "id": "01cf1679-f2ca-4783-9d17-4f19d25563e4",
      "metadata": {
        "id": "01cf1679-f2ca-4783-9d17-4f19d25563e4"
      },
      "source": [
        "## Project Pipeline\n",
        "\n",
        "* Cleaning our data and making it suitable for our ML model.\n",
        "* Data exploration and analysis to study our dataset.\n",
        "* Creating a simple model using logistic regression.\n",
        "* Using the model to carryout prediction and evaluating it's efficiency.\n",
        "* Creating a Random Forest Classifer model and comparing its accuracy with our logistic regression model."
      ]
    },
    {
      "cell_type": "markdown",
      "id": "1a571c0c-a351-4622-a2d8-9e7dcedff63f",
      "metadata": {
        "id": "1a571c0c-a351-4622-a2d8-9e7dcedff63f"
      },
      "source": [
        "## Requirements\n",
        "\n",
        "Import the mentioned libraries:\n",
        "\n",
        "- Numpy\n",
        "\n",
        "- Pandas\n",
        "\n",
        "- Sklearn\n",
        "\n",
        "- matplotlib.plt\n",
        "\n",
        "- Seaborn\n",
        "\n",
        "- joblib\n",
        "\n",
        "Import Kaggle dataset from the provided csv file using pandas"
      ]
    },
    {
      "cell_type": "code",
      "execution_count": 1,
      "id": "97bac810",
      "metadata": {
        "id": "97bac810",
        "tags": []
      },
      "outputs": [],
      "source": [
        "import numpy as np\n",
        "import matplotlib.pyplot as plt\n",
        "import pandas as pd\n",
        "import seaborn as sn\n",
        "import joblib\n",
        "from sklearn.model_selection import train_test_split\n",
        "from sklearn.preprocessing import MinMaxScaler\n",
        "from sklearn.linear_model import LogisticRegression\n",
        "from sklearn.ensemble import RandomForestClassifier\n",
        "from sklearn.neighbors import KNeighborsClassifier\n",
        "from sklearn.metrics import classification_report, roc_auc_score, roc_curve, f1_score, mean_squared_error, mean_absolute_error\n",
        "import tensorflow as tf"
      ]
    },
    {
      "cell_type": "markdown",
      "id": "04cd5981-5e1b-49bf-94df-a652bbdedb2a",
      "metadata": {
        "id": "04cd5981-5e1b-49bf-94df-a652bbdedb2a"
      },
      "source": [
        "## Data Loading"
      ]
    },
    {
      "cell_type": "markdown",
      "id": "02t1s7kFx6AE",
      "metadata": {
        "id": "02t1s7kFx6AE"
      },
      "source": [
        "### About this dataset\n",
        "https://www.kaggle.com/datasets/johnsmith88/heart-disease-dataset\n",
        "\n",
        "* age : Age of the patient\n",
        "* sex : Sex of the patient\n",
        "* exang: exercise induced angina (1 = yes; 0 = no)\n",
        "* ca: number of major vessels (0-3)\n",
        "* cp : Chest Pain type chest pain type\n",
        "  - Value 0: typical angina\n",
        "  - Value 1: atypical angina\n",
        "  - Value 2: non-anginal pain\n",
        "  - Value 3: asymptomatic\n",
        "* tresttbps : resting blood pressure (in mm Hg)\n",
        "* chol : cholesterol in mg/dl fetched via BMI sensor\n",
        "* fbs : (fasting blood sugar > 120 mg/dl) (1 = true; 0 = false)\n",
        "* rest_ecg : resting electrocardiographic results\n",
        "  - Value 0: normal\n",
        "  - Value 1: having ST-T wave abnormality (T wave inversions and/or ST elevation or depression of > 0.05 mV)\n",
        "  - Value 2: showing probable or definite left ventricular hypertrophy by Estes' criteria\n",
        "* thalach : maximum heart rate achieved\n",
        "* oldpeak: ST depression induced by exercise relative to rest\n",
        "* slope: the slope of the peak exercise ST segment\n",
        "  - Value 0: upsloping\n",
        "  - Value 1: flat\n",
        "  - Value 2: downsloping\n",
        "* thal: \n",
        "  - 0 = normal blood flow; \n",
        "  - 1 = fixed defect;\n",
        "  - 2 = reversible defect\n",
        "* target : 0= less chance of heart attack 1= more chance of heart attack\n"
      ]
    },
    {
      "cell_type": "code",
      "execution_count": 2,
      "id": "4b9d1cd1",
      "metadata": {
        "colab": {
          "base_uri": "https://localhost:8080/",
          "height": 206
        },
        "id": "4b9d1cd1",
        "outputId": "ac9e1360-b11b-429d-d256-c11bd7560a52"
      },
      "outputs": [
        {
          "data": {
            "text/html": [
              "\n",
              "  <div id=\"df-4b00eefa-9e6f-4eb5-b135-0e8512ff7067\">\n",
              "    <div class=\"colab-df-container\">\n",
              "      <div>\n",
              "<style scoped>\n",
              "    .dataframe tbody tr th:only-of-type {\n",
              "        vertical-align: middle;\n",
              "    }\n",
              "\n",
              "    .dataframe tbody tr th {\n",
              "        vertical-align: top;\n",
              "    }\n",
              "\n",
              "    .dataframe thead th {\n",
              "        text-align: right;\n",
              "    }\n",
              "</style>\n",
              "<table border=\"1\" class=\"dataframe\">\n",
              "  <thead>\n",
              "    <tr style=\"text-align: right;\">\n",
              "      <th></th>\n",
              "      <th>age</th>\n",
              "      <th>sex</th>\n",
              "      <th>cp</th>\n",
              "      <th>trestbps</th>\n",
              "      <th>chol</th>\n",
              "      <th>fbs</th>\n",
              "      <th>restecg</th>\n",
              "      <th>thalach</th>\n",
              "      <th>exang</th>\n",
              "      <th>oldpeak</th>\n",
              "      <th>slope</th>\n",
              "      <th>ca</th>\n",
              "      <th>thal</th>\n",
              "      <th>target</th>\n",
              "    </tr>\n",
              "  </thead>\n",
              "  <tbody>\n",
              "    <tr>\n",
              "      <th>200</th>\n",
              "      <td>44</td>\n",
              "      <td>1</td>\n",
              "      <td>0</td>\n",
              "      <td>110</td>\n",
              "      <td>197</td>\n",
              "      <td>0</td>\n",
              "      <td>0</td>\n",
              "      <td>177</td>\n",
              "      <td>0</td>\n",
              "      <td>0.0</td>\n",
              "      <td>2</td>\n",
              "      <td>1</td>\n",
              "      <td>2</td>\n",
              "      <td>0</td>\n",
              "    </tr>\n",
              "    <tr>\n",
              "      <th>108</th>\n",
              "      <td>50</td>\n",
              "      <td>0</td>\n",
              "      <td>1</td>\n",
              "      <td>120</td>\n",
              "      <td>244</td>\n",
              "      <td>0</td>\n",
              "      <td>1</td>\n",
              "      <td>162</td>\n",
              "      <td>0</td>\n",
              "      <td>1.1</td>\n",
              "      <td>2</td>\n",
              "      <td>0</td>\n",
              "      <td>2</td>\n",
              "      <td>1</td>\n",
              "    </tr>\n",
              "    <tr>\n",
              "      <th>117</th>\n",
              "      <td>56</td>\n",
              "      <td>1</td>\n",
              "      <td>3</td>\n",
              "      <td>120</td>\n",
              "      <td>193</td>\n",
              "      <td>0</td>\n",
              "      <td>0</td>\n",
              "      <td>162</td>\n",
              "      <td>0</td>\n",
              "      <td>1.9</td>\n",
              "      <td>1</td>\n",
              "      <td>0</td>\n",
              "      <td>3</td>\n",
              "      <td>1</td>\n",
              "    </tr>\n",
              "    <tr>\n",
              "      <th>119</th>\n",
              "      <td>46</td>\n",
              "      <td>0</td>\n",
              "      <td>0</td>\n",
              "      <td>138</td>\n",
              "      <td>243</td>\n",
              "      <td>0</td>\n",
              "      <td>0</td>\n",
              "      <td>152</td>\n",
              "      <td>1</td>\n",
              "      <td>0.0</td>\n",
              "      <td>1</td>\n",
              "      <td>0</td>\n",
              "      <td>2</td>\n",
              "      <td>1</td>\n",
              "    </tr>\n",
              "    <tr>\n",
              "      <th>174</th>\n",
              "      <td>60</td>\n",
              "      <td>1</td>\n",
              "      <td>0</td>\n",
              "      <td>130</td>\n",
              "      <td>206</td>\n",
              "      <td>0</td>\n",
              "      <td>0</td>\n",
              "      <td>132</td>\n",
              "      <td>1</td>\n",
              "      <td>2.4</td>\n",
              "      <td>1</td>\n",
              "      <td>2</td>\n",
              "      <td>3</td>\n",
              "      <td>0</td>\n",
              "    </tr>\n",
              "  </tbody>\n",
              "</table>\n",
              "</div>\n",
              "      <button class=\"colab-df-convert\" onclick=\"convertToInteractive('df-4b00eefa-9e6f-4eb5-b135-0e8512ff7067')\"\n",
              "              title=\"Convert this dataframe to an interactive table.\"\n",
              "              style=\"display:none;\">\n",
              "        \n",
              "  <svg xmlns=\"http://www.w3.org/2000/svg\" height=\"24px\"viewBox=\"0 0 24 24\"\n",
              "       width=\"24px\">\n",
              "    <path d=\"M0 0h24v24H0V0z\" fill=\"none\"/>\n",
              "    <path d=\"M18.56 5.44l.94 2.06.94-2.06 2.06-.94-2.06-.94-.94-2.06-.94 2.06-2.06.94zm-11 1L8.5 8.5l.94-2.06 2.06-.94-2.06-.94L8.5 2.5l-.94 2.06-2.06.94zm10 10l.94 2.06.94-2.06 2.06-.94-2.06-.94-.94-2.06-.94 2.06-2.06.94z\"/><path d=\"M17.41 7.96l-1.37-1.37c-.4-.4-.92-.59-1.43-.59-.52 0-1.04.2-1.43.59L10.3 9.45l-7.72 7.72c-.78.78-.78 2.05 0 2.83L4 21.41c.39.39.9.59 1.41.59.51 0 1.02-.2 1.41-.59l7.78-7.78 2.81-2.81c.8-.78.8-2.07 0-2.86zM5.41 20L4 18.59l7.72-7.72 1.47 1.35L5.41 20z\"/>\n",
              "  </svg>\n",
              "      </button>\n",
              "      \n",
              "  <style>\n",
              "    .colab-df-container {\n",
              "      display:flex;\n",
              "      flex-wrap:wrap;\n",
              "      gap: 12px;\n",
              "    }\n",
              "\n",
              "    .colab-df-convert {\n",
              "      background-color: #E8F0FE;\n",
              "      border: none;\n",
              "      border-radius: 50%;\n",
              "      cursor: pointer;\n",
              "      display: none;\n",
              "      fill: #1967D2;\n",
              "      height: 32px;\n",
              "      padding: 0 0 0 0;\n",
              "      width: 32px;\n",
              "    }\n",
              "\n",
              "    .colab-df-convert:hover {\n",
              "      background-color: #E2EBFA;\n",
              "      box-shadow: 0px 1px 2px rgba(60, 64, 67, 0.3), 0px 1px 3px 1px rgba(60, 64, 67, 0.15);\n",
              "      fill: #174EA6;\n",
              "    }\n",
              "\n",
              "    [theme=dark] .colab-df-convert {\n",
              "      background-color: #3B4455;\n",
              "      fill: #D2E3FC;\n",
              "    }\n",
              "\n",
              "    [theme=dark] .colab-df-convert:hover {\n",
              "      background-color: #434B5C;\n",
              "      box-shadow: 0px 1px 3px 1px rgba(0, 0, 0, 0.15);\n",
              "      filter: drop-shadow(0px 1px 2px rgba(0, 0, 0, 0.3));\n",
              "      fill: #FFFFFF;\n",
              "    }\n",
              "  </style>\n",
              "\n",
              "      <script>\n",
              "        const buttonEl =\n",
              "          document.querySelector('#df-4b00eefa-9e6f-4eb5-b135-0e8512ff7067 button.colab-df-convert');\n",
              "        buttonEl.style.display =\n",
              "          google.colab.kernel.accessAllowed ? 'block' : 'none';\n",
              "\n",
              "        async function convertToInteractive(key) {\n",
              "          const element = document.querySelector('#df-4b00eefa-9e6f-4eb5-b135-0e8512ff7067');\n",
              "          const dataTable =\n",
              "            await google.colab.kernel.invokeFunction('convertToInteractive',\n",
              "                                                     [key], {});\n",
              "          if (!dataTable) return;\n",
              "\n",
              "          const docLinkHtml = 'Like what you see? Visit the ' +\n",
              "            '<a target=\"_blank\" href=https://colab.research.google.com/notebooks/data_table.ipynb>data table notebook</a>'\n",
              "            + ' to learn more about interactive tables.';\n",
              "          element.innerHTML = '';\n",
              "          dataTable['output_type'] = 'display_data';\n",
              "          await google.colab.output.renderOutput(dataTable, element);\n",
              "          const docLink = document.createElement('div');\n",
              "          docLink.innerHTML = docLinkHtml;\n",
              "          element.appendChild(docLink);\n",
              "        }\n",
              "      </script>\n",
              "    </div>\n",
              "  </div>\n",
              "  "
            ],
            "text/plain": [
              "     age  sex  cp  trestbps  chol  fbs  restecg  thalach  exang  oldpeak  \\\n",
              "200   44    1   0       110   197    0        0      177      0      0.0   \n",
              "108   50    0   1       120   244    0        1      162      0      1.1   \n",
              "117   56    1   3       120   193    0        0      162      0      1.9   \n",
              "119   46    0   0       138   243    0        0      152      1      0.0   \n",
              "174   60    1   0       130   206    0        0      132      1      2.4   \n",
              "\n",
              "     slope  ca  thal  target  \n",
              "200      2   1     2       0  \n",
              "108      2   0     2       1  \n",
              "117      1   0     3       1  \n",
              "119      1   0     2       1  \n",
              "174      1   2     3       0  "
            ]
          },
          "execution_count": 2,
          "metadata": {},
          "output_type": "execute_result"
        }
      ],
      "source": [
        "df = pd.read_csv(r\"D:\\heart.csv\")\n",
        "df.sample(5)"
      ]
    },
    {
      "cell_type": "markdown",
      "id": "599c7d93-65bf-4f9e-a319-a660f117f91c",
      "metadata": {
        "id": "599c7d93-65bf-4f9e-a319-a660f117f91c"
      },
      "source": [
        "## Data Exploration\n",
        "### Assigned Tasks\n",
        "\n",
        "1. Use functions `head()` and `tail()` to see first and last five rows of the created dataframe.\n",
        "\n",
        "2. Use `describe()` to get even further insights on the created data frame.\n",
        "\n",
        "3. Use `df.dtypes` or `df.info()` to know data type various features present in the dataset. If we find categorical data, then we'll require to use different encoding methods.\n",
        "\n",
        "4. Use `df.isnull().sum()` to check for missing values in each column. If we find missing values, then either we will place values there or we can drop the row or column.\n",
        "\n",
        "5. Create a heatmap using seaborn to find corelation between different features and labels. In model creation we will be using features having a high corelation with our target label.\n",
        "\n",
        "6. Plot histogram for each variable"
      ]
    },
    {
      "cell_type": "code",
      "execution_count": 3,
      "id": "100e5982",
      "metadata": {
        "colab": {
          "base_uri": "https://localhost:8080/",
          "height": 206
        },
        "id": "100e5982",
        "outputId": "056066ef-64e2-4992-8690-e518c8fe896e"
      },
      "outputs": [
        {
          "data": {
            "text/html": [
              "\n",
              "  <div id=\"df-b41f9d21-dc9d-4ce5-b569-3637bc4603b0\">\n",
              "    <div class=\"colab-df-container\">\n",
              "      <div>\n",
              "<style scoped>\n",
              "    .dataframe tbody tr th:only-of-type {\n",
              "        vertical-align: middle;\n",
              "    }\n",
              "\n",
              "    .dataframe tbody tr th {\n",
              "        vertical-align: top;\n",
              "    }\n",
              "\n",
              "    .dataframe thead th {\n",
              "        text-align: right;\n",
              "    }\n",
              "</style>\n",
              "<table border=\"1\" class=\"dataframe\">\n",
              "  <thead>\n",
              "    <tr style=\"text-align: right;\">\n",
              "      <th></th>\n",
              "      <th>age</th>\n",
              "      <th>sex</th>\n",
              "      <th>cp</th>\n",
              "      <th>trestbps</th>\n",
              "      <th>chol</th>\n",
              "      <th>fbs</th>\n",
              "      <th>restecg</th>\n",
              "      <th>thalach</th>\n",
              "      <th>exang</th>\n",
              "      <th>oldpeak</th>\n",
              "      <th>slope</th>\n",
              "      <th>ca</th>\n",
              "      <th>thal</th>\n",
              "      <th>target</th>\n",
              "    </tr>\n",
              "  </thead>\n",
              "  <tbody>\n",
              "    <tr>\n",
              "      <th>0</th>\n",
              "      <td>63</td>\n",
              "      <td>1</td>\n",
              "      <td>3</td>\n",
              "      <td>145</td>\n",
              "      <td>233</td>\n",
              "      <td>1</td>\n",
              "      <td>0</td>\n",
              "      <td>150</td>\n",
              "      <td>0</td>\n",
              "      <td>2.3</td>\n",
              "      <td>0</td>\n",
              "      <td>0</td>\n",
              "      <td>1</td>\n",
              "      <td>1</td>\n",
              "    </tr>\n",
              "    <tr>\n",
              "      <th>1</th>\n",
              "      <td>37</td>\n",
              "      <td>1</td>\n",
              "      <td>2</td>\n",
              "      <td>130</td>\n",
              "      <td>250</td>\n",
              "      <td>0</td>\n",
              "      <td>1</td>\n",
              "      <td>187</td>\n",
              "      <td>0</td>\n",
              "      <td>3.5</td>\n",
              "      <td>0</td>\n",
              "      <td>0</td>\n",
              "      <td>2</td>\n",
              "      <td>1</td>\n",
              "    </tr>\n",
              "    <tr>\n",
              "      <th>2</th>\n",
              "      <td>41</td>\n",
              "      <td>0</td>\n",
              "      <td>1</td>\n",
              "      <td>130</td>\n",
              "      <td>204</td>\n",
              "      <td>0</td>\n",
              "      <td>0</td>\n",
              "      <td>172</td>\n",
              "      <td>0</td>\n",
              "      <td>1.4</td>\n",
              "      <td>2</td>\n",
              "      <td>0</td>\n",
              "      <td>2</td>\n",
              "      <td>1</td>\n",
              "    </tr>\n",
              "    <tr>\n",
              "      <th>3</th>\n",
              "      <td>56</td>\n",
              "      <td>1</td>\n",
              "      <td>1</td>\n",
              "      <td>120</td>\n",
              "      <td>236</td>\n",
              "      <td>0</td>\n",
              "      <td>1</td>\n",
              "      <td>178</td>\n",
              "      <td>0</td>\n",
              "      <td>0.8</td>\n",
              "      <td>2</td>\n",
              "      <td>0</td>\n",
              "      <td>2</td>\n",
              "      <td>1</td>\n",
              "    </tr>\n",
              "    <tr>\n",
              "      <th>4</th>\n",
              "      <td>57</td>\n",
              "      <td>0</td>\n",
              "      <td>0</td>\n",
              "      <td>120</td>\n",
              "      <td>354</td>\n",
              "      <td>0</td>\n",
              "      <td>1</td>\n",
              "      <td>163</td>\n",
              "      <td>1</td>\n",
              "      <td>0.6</td>\n",
              "      <td>2</td>\n",
              "      <td>0</td>\n",
              "      <td>2</td>\n",
              "      <td>1</td>\n",
              "    </tr>\n",
              "  </tbody>\n",
              "</table>\n",
              "</div>\n",
              "      <button class=\"colab-df-convert\" onclick=\"convertToInteractive('df-b41f9d21-dc9d-4ce5-b569-3637bc4603b0')\"\n",
              "              title=\"Convert this dataframe to an interactive table.\"\n",
              "              style=\"display:none;\">\n",
              "        \n",
              "  <svg xmlns=\"http://www.w3.org/2000/svg\" height=\"24px\"viewBox=\"0 0 24 24\"\n",
              "       width=\"24px\">\n",
              "    <path d=\"M0 0h24v24H0V0z\" fill=\"none\"/>\n",
              "    <path d=\"M18.56 5.44l.94 2.06.94-2.06 2.06-.94-2.06-.94-.94-2.06-.94 2.06-2.06.94zm-11 1L8.5 8.5l.94-2.06 2.06-.94-2.06-.94L8.5 2.5l-.94 2.06-2.06.94zm10 10l.94 2.06.94-2.06 2.06-.94-2.06-.94-.94-2.06-.94 2.06-2.06.94z\"/><path d=\"M17.41 7.96l-1.37-1.37c-.4-.4-.92-.59-1.43-.59-.52 0-1.04.2-1.43.59L10.3 9.45l-7.72 7.72c-.78.78-.78 2.05 0 2.83L4 21.41c.39.39.9.59 1.41.59.51 0 1.02-.2 1.41-.59l7.78-7.78 2.81-2.81c.8-.78.8-2.07 0-2.86zM5.41 20L4 18.59l7.72-7.72 1.47 1.35L5.41 20z\"/>\n",
              "  </svg>\n",
              "      </button>\n",
              "      \n",
              "  <style>\n",
              "    .colab-df-container {\n",
              "      display:flex;\n",
              "      flex-wrap:wrap;\n",
              "      gap: 12px;\n",
              "    }\n",
              "\n",
              "    .colab-df-convert {\n",
              "      background-color: #E8F0FE;\n",
              "      border: none;\n",
              "      border-radius: 50%;\n",
              "      cursor: pointer;\n",
              "      display: none;\n",
              "      fill: #1967D2;\n",
              "      height: 32px;\n",
              "      padding: 0 0 0 0;\n",
              "      width: 32px;\n",
              "    }\n",
              "\n",
              "    .colab-df-convert:hover {\n",
              "      background-color: #E2EBFA;\n",
              "      box-shadow: 0px 1px 2px rgba(60, 64, 67, 0.3), 0px 1px 3px 1px rgba(60, 64, 67, 0.15);\n",
              "      fill: #174EA6;\n",
              "    }\n",
              "\n",
              "    [theme=dark] .colab-df-convert {\n",
              "      background-color: #3B4455;\n",
              "      fill: #D2E3FC;\n",
              "    }\n",
              "\n",
              "    [theme=dark] .colab-df-convert:hover {\n",
              "      background-color: #434B5C;\n",
              "      box-shadow: 0px 1px 3px 1px rgba(0, 0, 0, 0.15);\n",
              "      filter: drop-shadow(0px 1px 2px rgba(0, 0, 0, 0.3));\n",
              "      fill: #FFFFFF;\n",
              "    }\n",
              "  </style>\n",
              "\n",
              "      <script>\n",
              "        const buttonEl =\n",
              "          document.querySelector('#df-b41f9d21-dc9d-4ce5-b569-3637bc4603b0 button.colab-df-convert');\n",
              "        buttonEl.style.display =\n",
              "          google.colab.kernel.accessAllowed ? 'block' : 'none';\n",
              "\n",
              "        async function convertToInteractive(key) {\n",
              "          const element = document.querySelector('#df-b41f9d21-dc9d-4ce5-b569-3637bc4603b0');\n",
              "          const dataTable =\n",
              "            await google.colab.kernel.invokeFunction('convertToInteractive',\n",
              "                                                     [key], {});\n",
              "          if (!dataTable) return;\n",
              "\n",
              "          const docLinkHtml = 'Like what you see? Visit the ' +\n",
              "            '<a target=\"_blank\" href=https://colab.research.google.com/notebooks/data_table.ipynb>data table notebook</a>'\n",
              "            + ' to learn more about interactive tables.';\n",
              "          element.innerHTML = '';\n",
              "          dataTable['output_type'] = 'display_data';\n",
              "          await google.colab.output.renderOutput(dataTable, element);\n",
              "          const docLink = document.createElement('div');\n",
              "          docLink.innerHTML = docLinkHtml;\n",
              "          element.appendChild(docLink);\n",
              "        }\n",
              "      </script>\n",
              "    </div>\n",
              "  </div>\n",
              "  "
            ],
            "text/plain": [
              "   age  sex  cp  trestbps  chol  fbs  restecg  thalach  exang  oldpeak  slope  \\\n",
              "0   63    1   3       145   233    1        0      150      0      2.3      0   \n",
              "1   37    1   2       130   250    0        1      187      0      3.5      0   \n",
              "2   41    0   1       130   204    0        0      172      0      1.4      2   \n",
              "3   56    1   1       120   236    0        1      178      0      0.8      2   \n",
              "4   57    0   0       120   354    0        1      163      1      0.6      2   \n",
              "\n",
              "   ca  thal  target  \n",
              "0   0     1       1  \n",
              "1   0     2       1  \n",
              "2   0     2       1  \n",
              "3   0     2       1  \n",
              "4   0     2       1  "
            ]
          },
          "execution_count": 3,
          "metadata": {},
          "output_type": "execute_result"
        }
      ],
      "source": [
        "df.head()"
      ]
    },
    {
      "cell_type": "code",
      "execution_count": 4,
      "id": "b72bef08",
      "metadata": {
        "colab": {
          "base_uri": "https://localhost:8080/",
          "height": 206
        },
        "id": "b72bef08",
        "outputId": "14bd3d7d-999c-41cb-fce2-47cbb7592181"
      },
      "outputs": [
        {
          "data": {
            "text/html": [
              "\n",
              "  <div id=\"df-2075a747-3a4c-4292-a748-8810403d6aec\">\n",
              "    <div class=\"colab-df-container\">\n",
              "      <div>\n",
              "<style scoped>\n",
              "    .dataframe tbody tr th:only-of-type {\n",
              "        vertical-align: middle;\n",
              "    }\n",
              "\n",
              "    .dataframe tbody tr th {\n",
              "        vertical-align: top;\n",
              "    }\n",
              "\n",
              "    .dataframe thead th {\n",
              "        text-align: right;\n",
              "    }\n",
              "</style>\n",
              "<table border=\"1\" class=\"dataframe\">\n",
              "  <thead>\n",
              "    <tr style=\"text-align: right;\">\n",
              "      <th></th>\n",
              "      <th>age</th>\n",
              "      <th>sex</th>\n",
              "      <th>cp</th>\n",
              "      <th>trestbps</th>\n",
              "      <th>chol</th>\n",
              "      <th>fbs</th>\n",
              "      <th>restecg</th>\n",
              "      <th>thalach</th>\n",
              "      <th>exang</th>\n",
              "      <th>oldpeak</th>\n",
              "      <th>slope</th>\n",
              "      <th>ca</th>\n",
              "      <th>thal</th>\n",
              "      <th>target</th>\n",
              "    </tr>\n",
              "  </thead>\n",
              "  <tbody>\n",
              "    <tr>\n",
              "      <th>298</th>\n",
              "      <td>57</td>\n",
              "      <td>0</td>\n",
              "      <td>0</td>\n",
              "      <td>140</td>\n",
              "      <td>241</td>\n",
              "      <td>0</td>\n",
              "      <td>1</td>\n",
              "      <td>123</td>\n",
              "      <td>1</td>\n",
              "      <td>0.2</td>\n",
              "      <td>1</td>\n",
              "      <td>0</td>\n",
              "      <td>3</td>\n",
              "      <td>0</td>\n",
              "    </tr>\n",
              "    <tr>\n",
              "      <th>299</th>\n",
              "      <td>45</td>\n",
              "      <td>1</td>\n",
              "      <td>3</td>\n",
              "      <td>110</td>\n",
              "      <td>264</td>\n",
              "      <td>0</td>\n",
              "      <td>1</td>\n",
              "      <td>132</td>\n",
              "      <td>0</td>\n",
              "      <td>1.2</td>\n",
              "      <td>1</td>\n",
              "      <td>0</td>\n",
              "      <td>3</td>\n",
              "      <td>0</td>\n",
              "    </tr>\n",
              "    <tr>\n",
              "      <th>300</th>\n",
              "      <td>68</td>\n",
              "      <td>1</td>\n",
              "      <td>0</td>\n",
              "      <td>144</td>\n",
              "      <td>193</td>\n",
              "      <td>1</td>\n",
              "      <td>1</td>\n",
              "      <td>141</td>\n",
              "      <td>0</td>\n",
              "      <td>3.4</td>\n",
              "      <td>1</td>\n",
              "      <td>2</td>\n",
              "      <td>3</td>\n",
              "      <td>0</td>\n",
              "    </tr>\n",
              "    <tr>\n",
              "      <th>301</th>\n",
              "      <td>57</td>\n",
              "      <td>1</td>\n",
              "      <td>0</td>\n",
              "      <td>130</td>\n",
              "      <td>131</td>\n",
              "      <td>0</td>\n",
              "      <td>1</td>\n",
              "      <td>115</td>\n",
              "      <td>1</td>\n",
              "      <td>1.2</td>\n",
              "      <td>1</td>\n",
              "      <td>1</td>\n",
              "      <td>3</td>\n",
              "      <td>0</td>\n",
              "    </tr>\n",
              "    <tr>\n",
              "      <th>302</th>\n",
              "      <td>57</td>\n",
              "      <td>0</td>\n",
              "      <td>1</td>\n",
              "      <td>130</td>\n",
              "      <td>236</td>\n",
              "      <td>0</td>\n",
              "      <td>0</td>\n",
              "      <td>174</td>\n",
              "      <td>0</td>\n",
              "      <td>0.0</td>\n",
              "      <td>1</td>\n",
              "      <td>1</td>\n",
              "      <td>2</td>\n",
              "      <td>0</td>\n",
              "    </tr>\n",
              "  </tbody>\n",
              "</table>\n",
              "</div>\n",
              "      <button class=\"colab-df-convert\" onclick=\"convertToInteractive('df-2075a747-3a4c-4292-a748-8810403d6aec')\"\n",
              "              title=\"Convert this dataframe to an interactive table.\"\n",
              "              style=\"display:none;\">\n",
              "        \n",
              "  <svg xmlns=\"http://www.w3.org/2000/svg\" height=\"24px\"viewBox=\"0 0 24 24\"\n",
              "       width=\"24px\">\n",
              "    <path d=\"M0 0h24v24H0V0z\" fill=\"none\"/>\n",
              "    <path d=\"M18.56 5.44l.94 2.06.94-2.06 2.06-.94-2.06-.94-.94-2.06-.94 2.06-2.06.94zm-11 1L8.5 8.5l.94-2.06 2.06-.94-2.06-.94L8.5 2.5l-.94 2.06-2.06.94zm10 10l.94 2.06.94-2.06 2.06-.94-2.06-.94-.94-2.06-.94 2.06-2.06.94z\"/><path d=\"M17.41 7.96l-1.37-1.37c-.4-.4-.92-.59-1.43-.59-.52 0-1.04.2-1.43.59L10.3 9.45l-7.72 7.72c-.78.78-.78 2.05 0 2.83L4 21.41c.39.39.9.59 1.41.59.51 0 1.02-.2 1.41-.59l7.78-7.78 2.81-2.81c.8-.78.8-2.07 0-2.86zM5.41 20L4 18.59l7.72-7.72 1.47 1.35L5.41 20z\"/>\n",
              "  </svg>\n",
              "      </button>\n",
              "      \n",
              "  <style>\n",
              "    .colab-df-container {\n",
              "      display:flex;\n",
              "      flex-wrap:wrap;\n",
              "      gap: 12px;\n",
              "    }\n",
              "\n",
              "    .colab-df-convert {\n",
              "      background-color: #E8F0FE;\n",
              "      border: none;\n",
              "      border-radius: 50%;\n",
              "      cursor: pointer;\n",
              "      display: none;\n",
              "      fill: #1967D2;\n",
              "      height: 32px;\n",
              "      padding: 0 0 0 0;\n",
              "      width: 32px;\n",
              "    }\n",
              "\n",
              "    .colab-df-convert:hover {\n",
              "      background-color: #E2EBFA;\n",
              "      box-shadow: 0px 1px 2px rgba(60, 64, 67, 0.3), 0px 1px 3px 1px rgba(60, 64, 67, 0.15);\n",
              "      fill: #174EA6;\n",
              "    }\n",
              "\n",
              "    [theme=dark] .colab-df-convert {\n",
              "      background-color: #3B4455;\n",
              "      fill: #D2E3FC;\n",
              "    }\n",
              "\n",
              "    [theme=dark] .colab-df-convert:hover {\n",
              "      background-color: #434B5C;\n",
              "      box-shadow: 0px 1px 3px 1px rgba(0, 0, 0, 0.15);\n",
              "      filter: drop-shadow(0px 1px 2px rgba(0, 0, 0, 0.3));\n",
              "      fill: #FFFFFF;\n",
              "    }\n",
              "  </style>\n",
              "\n",
              "      <script>\n",
              "        const buttonEl =\n",
              "          document.querySelector('#df-2075a747-3a4c-4292-a748-8810403d6aec button.colab-df-convert');\n",
              "        buttonEl.style.display =\n",
              "          google.colab.kernel.accessAllowed ? 'block' : 'none';\n",
              "\n",
              "        async function convertToInteractive(key) {\n",
              "          const element = document.querySelector('#df-2075a747-3a4c-4292-a748-8810403d6aec');\n",
              "          const dataTable =\n",
              "            await google.colab.kernel.invokeFunction('convertToInteractive',\n",
              "                                                     [key], {});\n",
              "          if (!dataTable) return;\n",
              "\n",
              "          const docLinkHtml = 'Like what you see? Visit the ' +\n",
              "            '<a target=\"_blank\" href=https://colab.research.google.com/notebooks/data_table.ipynb>data table notebook</a>'\n",
              "            + ' to learn more about interactive tables.';\n",
              "          element.innerHTML = '';\n",
              "          dataTable['output_type'] = 'display_data';\n",
              "          await google.colab.output.renderOutput(dataTable, element);\n",
              "          const docLink = document.createElement('div');\n",
              "          docLink.innerHTML = docLinkHtml;\n",
              "          element.appendChild(docLink);\n",
              "        }\n",
              "      </script>\n",
              "    </div>\n",
              "  </div>\n",
              "  "
            ],
            "text/plain": [
              "     age  sex  cp  trestbps  chol  fbs  restecg  thalach  exang  oldpeak  \\\n",
              "298   57    0   0       140   241    0        1      123      1      0.2   \n",
              "299   45    1   3       110   264    0        1      132      0      1.2   \n",
              "300   68    1   0       144   193    1        1      141      0      3.4   \n",
              "301   57    1   0       130   131    0        1      115      1      1.2   \n",
              "302   57    0   1       130   236    0        0      174      0      0.0   \n",
              "\n",
              "     slope  ca  thal  target  \n",
              "298      1   0     3       0  \n",
              "299      1   0     3       0  \n",
              "300      1   2     3       0  \n",
              "301      1   1     3       0  \n",
              "302      1   1     2       0  "
            ]
          },
          "execution_count": 4,
          "metadata": {},
          "output_type": "execute_result"
        }
      ],
      "source": [
        "df.tail()"
      ]
    },
    {
      "cell_type": "markdown",
      "id": "xgVv-w5wZ9vy",
      "metadata": {
        "id": "xgVv-w5wZ9vy"
      },
      "source": [
        "### Statistical summary of data"
      ]
    },
    {
      "cell_type": "code",
      "execution_count": 5,
      "id": "2be78c62",
      "metadata": {
        "colab": {
          "base_uri": "https://localhost:8080/",
          "height": 300
        },
        "id": "2be78c62",
        "outputId": "42e94122-94da-4b8f-ea76-f0b061349a34"
      },
      "outputs": [
        {
          "data": {
            "text/html": [
              "\n",
              "  <div id=\"df-5f05d5a3-eb57-4f6a-adee-1569ba690f8d\">\n",
              "    <div class=\"colab-df-container\">\n",
              "      <div>\n",
              "<style scoped>\n",
              "    .dataframe tbody tr th:only-of-type {\n",
              "        vertical-align: middle;\n",
              "    }\n",
              "\n",
              "    .dataframe tbody tr th {\n",
              "        vertical-align: top;\n",
              "    }\n",
              "\n",
              "    .dataframe thead th {\n",
              "        text-align: right;\n",
              "    }\n",
              "</style>\n",
              "<table border=\"1\" class=\"dataframe\">\n",
              "  <thead>\n",
              "    <tr style=\"text-align: right;\">\n",
              "      <th></th>\n",
              "      <th>age</th>\n",
              "      <th>sex</th>\n",
              "      <th>cp</th>\n",
              "      <th>trestbps</th>\n",
              "      <th>chol</th>\n",
              "      <th>fbs</th>\n",
              "      <th>restecg</th>\n",
              "      <th>thalach</th>\n",
              "      <th>exang</th>\n",
              "      <th>oldpeak</th>\n",
              "      <th>slope</th>\n",
              "      <th>ca</th>\n",
              "      <th>thal</th>\n",
              "      <th>target</th>\n",
              "    </tr>\n",
              "  </thead>\n",
              "  <tbody>\n",
              "    <tr>\n",
              "      <th>count</th>\n",
              "      <td>303.000000</td>\n",
              "      <td>303.000000</td>\n",
              "      <td>303.000000</td>\n",
              "      <td>303.000000</td>\n",
              "      <td>303.000000</td>\n",
              "      <td>303.000000</td>\n",
              "      <td>303.000000</td>\n",
              "      <td>303.000000</td>\n",
              "      <td>303.000000</td>\n",
              "      <td>303.000000</td>\n",
              "      <td>303.000000</td>\n",
              "      <td>303.000000</td>\n",
              "      <td>303.000000</td>\n",
              "      <td>303.000000</td>\n",
              "    </tr>\n",
              "    <tr>\n",
              "      <th>mean</th>\n",
              "      <td>54.366337</td>\n",
              "      <td>0.683168</td>\n",
              "      <td>0.966997</td>\n",
              "      <td>131.623762</td>\n",
              "      <td>246.264026</td>\n",
              "      <td>0.148515</td>\n",
              "      <td>0.528053</td>\n",
              "      <td>149.646865</td>\n",
              "      <td>0.326733</td>\n",
              "      <td>1.039604</td>\n",
              "      <td>1.399340</td>\n",
              "      <td>0.729373</td>\n",
              "      <td>2.313531</td>\n",
              "      <td>0.544554</td>\n",
              "    </tr>\n",
              "    <tr>\n",
              "      <th>std</th>\n",
              "      <td>9.082101</td>\n",
              "      <td>0.466011</td>\n",
              "      <td>1.032052</td>\n",
              "      <td>17.538143</td>\n",
              "      <td>51.830751</td>\n",
              "      <td>0.356198</td>\n",
              "      <td>0.525860</td>\n",
              "      <td>22.905161</td>\n",
              "      <td>0.469794</td>\n",
              "      <td>1.161075</td>\n",
              "      <td>0.616226</td>\n",
              "      <td>1.022606</td>\n",
              "      <td>0.612277</td>\n",
              "      <td>0.498835</td>\n",
              "    </tr>\n",
              "    <tr>\n",
              "      <th>min</th>\n",
              "      <td>29.000000</td>\n",
              "      <td>0.000000</td>\n",
              "      <td>0.000000</td>\n",
              "      <td>94.000000</td>\n",
              "      <td>126.000000</td>\n",
              "      <td>0.000000</td>\n",
              "      <td>0.000000</td>\n",
              "      <td>71.000000</td>\n",
              "      <td>0.000000</td>\n",
              "      <td>0.000000</td>\n",
              "      <td>0.000000</td>\n",
              "      <td>0.000000</td>\n",
              "      <td>0.000000</td>\n",
              "      <td>0.000000</td>\n",
              "    </tr>\n",
              "    <tr>\n",
              "      <th>25%</th>\n",
              "      <td>47.500000</td>\n",
              "      <td>0.000000</td>\n",
              "      <td>0.000000</td>\n",
              "      <td>120.000000</td>\n",
              "      <td>211.000000</td>\n",
              "      <td>0.000000</td>\n",
              "      <td>0.000000</td>\n",
              "      <td>133.500000</td>\n",
              "      <td>0.000000</td>\n",
              "      <td>0.000000</td>\n",
              "      <td>1.000000</td>\n",
              "      <td>0.000000</td>\n",
              "      <td>2.000000</td>\n",
              "      <td>0.000000</td>\n",
              "    </tr>\n",
              "    <tr>\n",
              "      <th>50%</th>\n",
              "      <td>55.000000</td>\n",
              "      <td>1.000000</td>\n",
              "      <td>1.000000</td>\n",
              "      <td>130.000000</td>\n",
              "      <td>240.000000</td>\n",
              "      <td>0.000000</td>\n",
              "      <td>1.000000</td>\n",
              "      <td>153.000000</td>\n",
              "      <td>0.000000</td>\n",
              "      <td>0.800000</td>\n",
              "      <td>1.000000</td>\n",
              "      <td>0.000000</td>\n",
              "      <td>2.000000</td>\n",
              "      <td>1.000000</td>\n",
              "    </tr>\n",
              "    <tr>\n",
              "      <th>75%</th>\n",
              "      <td>61.000000</td>\n",
              "      <td>1.000000</td>\n",
              "      <td>2.000000</td>\n",
              "      <td>140.000000</td>\n",
              "      <td>274.500000</td>\n",
              "      <td>0.000000</td>\n",
              "      <td>1.000000</td>\n",
              "      <td>166.000000</td>\n",
              "      <td>1.000000</td>\n",
              "      <td>1.600000</td>\n",
              "      <td>2.000000</td>\n",
              "      <td>1.000000</td>\n",
              "      <td>3.000000</td>\n",
              "      <td>1.000000</td>\n",
              "    </tr>\n",
              "    <tr>\n",
              "      <th>max</th>\n",
              "      <td>77.000000</td>\n",
              "      <td>1.000000</td>\n",
              "      <td>3.000000</td>\n",
              "      <td>200.000000</td>\n",
              "      <td>564.000000</td>\n",
              "      <td>1.000000</td>\n",
              "      <td>2.000000</td>\n",
              "      <td>202.000000</td>\n",
              "      <td>1.000000</td>\n",
              "      <td>6.200000</td>\n",
              "      <td>2.000000</td>\n",
              "      <td>4.000000</td>\n",
              "      <td>3.000000</td>\n",
              "      <td>1.000000</td>\n",
              "    </tr>\n",
              "  </tbody>\n",
              "</table>\n",
              "</div>\n",
              "      <button class=\"colab-df-convert\" onclick=\"convertToInteractive('df-5f05d5a3-eb57-4f6a-adee-1569ba690f8d')\"\n",
              "              title=\"Convert this dataframe to an interactive table.\"\n",
              "              style=\"display:none;\">\n",
              "        \n",
              "  <svg xmlns=\"http://www.w3.org/2000/svg\" height=\"24px\"viewBox=\"0 0 24 24\"\n",
              "       width=\"24px\">\n",
              "    <path d=\"M0 0h24v24H0V0z\" fill=\"none\"/>\n",
              "    <path d=\"M18.56 5.44l.94 2.06.94-2.06 2.06-.94-2.06-.94-.94-2.06-.94 2.06-2.06.94zm-11 1L8.5 8.5l.94-2.06 2.06-.94-2.06-.94L8.5 2.5l-.94 2.06-2.06.94zm10 10l.94 2.06.94-2.06 2.06-.94-2.06-.94-.94-2.06-.94 2.06-2.06.94z\"/><path d=\"M17.41 7.96l-1.37-1.37c-.4-.4-.92-.59-1.43-.59-.52 0-1.04.2-1.43.59L10.3 9.45l-7.72 7.72c-.78.78-.78 2.05 0 2.83L4 21.41c.39.39.9.59 1.41.59.51 0 1.02-.2 1.41-.59l7.78-7.78 2.81-2.81c.8-.78.8-2.07 0-2.86zM5.41 20L4 18.59l7.72-7.72 1.47 1.35L5.41 20z\"/>\n",
              "  </svg>\n",
              "      </button>\n",
              "      \n",
              "  <style>\n",
              "    .colab-df-container {\n",
              "      display:flex;\n",
              "      flex-wrap:wrap;\n",
              "      gap: 12px;\n",
              "    }\n",
              "\n",
              "    .colab-df-convert {\n",
              "      background-color: #E8F0FE;\n",
              "      border: none;\n",
              "      border-radius: 50%;\n",
              "      cursor: pointer;\n",
              "      display: none;\n",
              "      fill: #1967D2;\n",
              "      height: 32px;\n",
              "      padding: 0 0 0 0;\n",
              "      width: 32px;\n",
              "    }\n",
              "\n",
              "    .colab-df-convert:hover {\n",
              "      background-color: #E2EBFA;\n",
              "      box-shadow: 0px 1px 2px rgba(60, 64, 67, 0.3), 0px 1px 3px 1px rgba(60, 64, 67, 0.15);\n",
              "      fill: #174EA6;\n",
              "    }\n",
              "\n",
              "    [theme=dark] .colab-df-convert {\n",
              "      background-color: #3B4455;\n",
              "      fill: #D2E3FC;\n",
              "    }\n",
              "\n",
              "    [theme=dark] .colab-df-convert:hover {\n",
              "      background-color: #434B5C;\n",
              "      box-shadow: 0px 1px 3px 1px rgba(0, 0, 0, 0.15);\n",
              "      filter: drop-shadow(0px 1px 2px rgba(0, 0, 0, 0.3));\n",
              "      fill: #FFFFFF;\n",
              "    }\n",
              "  </style>\n",
              "\n",
              "      <script>\n",
              "        const buttonEl =\n",
              "          document.querySelector('#df-5f05d5a3-eb57-4f6a-adee-1569ba690f8d button.colab-df-convert');\n",
              "        buttonEl.style.display =\n",
              "          google.colab.kernel.accessAllowed ? 'block' : 'none';\n",
              "\n",
              "        async function convertToInteractive(key) {\n",
              "          const element = document.querySelector('#df-5f05d5a3-eb57-4f6a-adee-1569ba690f8d');\n",
              "          const dataTable =\n",
              "            await google.colab.kernel.invokeFunction('convertToInteractive',\n",
              "                                                     [key], {});\n",
              "          if (!dataTable) return;\n",
              "\n",
              "          const docLinkHtml = 'Like what you see? Visit the ' +\n",
              "            '<a target=\"_blank\" href=https://colab.research.google.com/notebooks/data_table.ipynb>data table notebook</a>'\n",
              "            + ' to learn more about interactive tables.';\n",
              "          element.innerHTML = '';\n",
              "          dataTable['output_type'] = 'display_data';\n",
              "          await google.colab.output.renderOutput(dataTable, element);\n",
              "          const docLink = document.createElement('div');\n",
              "          docLink.innerHTML = docLinkHtml;\n",
              "          element.appendChild(docLink);\n",
              "        }\n",
              "      </script>\n",
              "    </div>\n",
              "  </div>\n",
              "  "
            ],
            "text/plain": [
              "              age         sex          cp    trestbps        chol         fbs  \\\n",
              "count  303.000000  303.000000  303.000000  303.000000  303.000000  303.000000   \n",
              "mean    54.366337    0.683168    0.966997  131.623762  246.264026    0.148515   \n",
              "std      9.082101    0.466011    1.032052   17.538143   51.830751    0.356198   \n",
              "min     29.000000    0.000000    0.000000   94.000000  126.000000    0.000000   \n",
              "25%     47.500000    0.000000    0.000000  120.000000  211.000000    0.000000   \n",
              "50%     55.000000    1.000000    1.000000  130.000000  240.000000    0.000000   \n",
              "75%     61.000000    1.000000    2.000000  140.000000  274.500000    0.000000   \n",
              "max     77.000000    1.000000    3.000000  200.000000  564.000000    1.000000   \n",
              "\n",
              "          restecg     thalach       exang     oldpeak       slope          ca  \\\n",
              "count  303.000000  303.000000  303.000000  303.000000  303.000000  303.000000   \n",
              "mean     0.528053  149.646865    0.326733    1.039604    1.399340    0.729373   \n",
              "std      0.525860   22.905161    0.469794    1.161075    0.616226    1.022606   \n",
              "min      0.000000   71.000000    0.000000    0.000000    0.000000    0.000000   \n",
              "25%      0.000000  133.500000    0.000000    0.000000    1.000000    0.000000   \n",
              "50%      1.000000  153.000000    0.000000    0.800000    1.000000    0.000000   \n",
              "75%      1.000000  166.000000    1.000000    1.600000    2.000000    1.000000   \n",
              "max      2.000000  202.000000    1.000000    6.200000    2.000000    4.000000   \n",
              "\n",
              "             thal      target  \n",
              "count  303.000000  303.000000  \n",
              "mean     2.313531    0.544554  \n",
              "std      0.612277    0.498835  \n",
              "min      0.000000    0.000000  \n",
              "25%      2.000000    0.000000  \n",
              "50%      2.000000    1.000000  \n",
              "75%      3.000000    1.000000  \n",
              "max      3.000000    1.000000  "
            ]
          },
          "execution_count": 5,
          "metadata": {},
          "output_type": "execute_result"
        }
      ],
      "source": [
        "df.describe()"
      ]
    },
    {
      "cell_type": "markdown",
      "id": "X0iMdht3aEdM",
      "metadata": {
        "id": "X0iMdht3aEdM"
      },
      "source": [
        "### Check columns data type"
      ]
    },
    {
      "cell_type": "code",
      "execution_count": 6,
      "id": "93ac0723",
      "metadata": {
        "colab": {
          "base_uri": "https://localhost:8080/"
        },
        "id": "93ac0723",
        "outputId": "f64b8307-0ee0-4109-955f-4bea6bd190d1"
      },
      "outputs": [
        {
          "data": {
            "text/plain": [
              "age           int64\n",
              "sex           int64\n",
              "cp            int64\n",
              "trestbps      int64\n",
              "chol          int64\n",
              "fbs           int64\n",
              "restecg       int64\n",
              "thalach       int64\n",
              "exang         int64\n",
              "oldpeak     float64\n",
              "slope         int64\n",
              "ca            int64\n",
              "thal          int64\n",
              "target        int64\n",
              "dtype: object"
            ]
          },
          "execution_count": 6,
          "metadata": {},
          "output_type": "execute_result"
        }
      ],
      "source": [
        "df.dtypes"
      ]
    },
    {
      "cell_type": "code",
      "execution_count": 7,
      "id": "5484f6ac",
      "metadata": {
        "colab": {
          "base_uri": "https://localhost:8080/"
        },
        "id": "5484f6ac",
        "outputId": "16a80290-7ad0-41ed-ea21-06ae8f1a8714"
      },
      "outputs": [
        {
          "name": "stdout",
          "output_type": "stream",
          "text": [
            "<class 'pandas.core.frame.DataFrame'>\n",
            "RangeIndex: 303 entries, 0 to 302\n",
            "Data columns (total 14 columns):\n",
            " #   Column    Non-Null Count  Dtype  \n",
            "---  ------    --------------  -----  \n",
            " 0   age       303 non-null    int64  \n",
            " 1   sex       303 non-null    int64  \n",
            " 2   cp        303 non-null    int64  \n",
            " 3   trestbps  303 non-null    int64  \n",
            " 4   chol      303 non-null    int64  \n",
            " 5   fbs       303 non-null    int64  \n",
            " 6   restecg   303 non-null    int64  \n",
            " 7   thalach   303 non-null    int64  \n",
            " 8   exang     303 non-null    int64  \n",
            " 9   oldpeak   303 non-null    float64\n",
            " 10  slope     303 non-null    int64  \n",
            " 11  ca        303 non-null    int64  \n",
            " 12  thal      303 non-null    int64  \n",
            " 13  target    303 non-null    int64  \n",
            "dtypes: float64(1), int64(13)\n",
            "memory usage: 33.3 KB\n"
          ]
        }
      ],
      "source": [
        "df.info()"
      ]
    },
    {
      "cell_type": "markdown",
      "id": "zGXIhTtfaPMe",
      "metadata": {
        "id": "zGXIhTtfaPMe"
      },
      "source": [
        "### Check if null value exists in any of the columns"
      ]
    },
    {
      "cell_type": "code",
      "execution_count": 8,
      "id": "6fb6d10c",
      "metadata": {
        "colab": {
          "base_uri": "https://localhost:8080/"
        },
        "id": "6fb6d10c",
        "outputId": "63cab082-a53e-4dae-fb2c-430eb86f9ff4"
      },
      "outputs": [
        {
          "data": {
            "text/plain": [
              "age         0\n",
              "sex         0\n",
              "cp          0\n",
              "trestbps    0\n",
              "chol        0\n",
              "fbs         0\n",
              "restecg     0\n",
              "thalach     0\n",
              "exang       0\n",
              "oldpeak     0\n",
              "slope       0\n",
              "ca          0\n",
              "thal        0\n",
              "target      0\n",
              "dtype: int64"
            ]
          },
          "execution_count": 8,
          "metadata": {},
          "output_type": "execute_result"
        }
      ],
      "source": [
        "df.isnull().sum()"
      ]
    },
    {
      "cell_type": "markdown",
      "id": "ce6lrF3Mag6J",
      "metadata": {
        "id": "ce6lrF3Mag6J"
      },
      "source": [
        "## Data Visualization"
      ]
    },
    {
      "cell_type": "markdown",
      "id": "UQ5YnAIHatsm",
      "metadata": {
        "id": "UQ5YnAIHatsm"
      },
      "source": [
        "### Plot target column male and female wise"
      ]
    },
    {
      "cell_type": "code",
      "execution_count": 9,
      "id": "tCn1PZhvafEo",
      "metadata": {
        "colab": {
          "base_uri": "https://localhost:8080/",
          "height": 54
        },
        "id": "tCn1PZhvafEo",
        "outputId": "2bae2aed-e885-42c6-ce04-e060f5ac3409"
      },
      "outputs": [
        {
          "data": {
            "image/png": "[encoded data removed]",
            "text/plain": [
              "<Figure size 576x432 with 1 Axes>"
            ]
          },
          "metadata": {
            "needs_background": "light"
          },
          "output_type": "display_data"
        }
      ],
      "source": [
        "plt.figure(figsize =(8, 6))\n",
        "f = sn.countplot(x = 'target', data = df, hue = 'sex')\n",
        "plt.legend(['Female', 'Male'])\n",
        "f.set_title(\"Heart disease gender wise\")\n",
        "f.set_xticklabels(['No Heart disease', 'Heart Disease'])\n",
        "plt.xlabel(\"\");"
      ]
    },
    {
      "cell_type": "markdown",
      "id": "YOrNfKEoa84X",
      "metadata": {
        "id": "YOrNfKEoa84X"
      },
      "source": [
        "### Plot heart disease by chest pain type"
      ]
    },
    {
      "cell_type": "code",
      "execution_count": 10,
      "id": "KqSy6G_Oa7sH",
      "metadata": {
        "colab": {
          "base_uri": "https://localhost:8080/",
          "height": 106
        },
        "id": "KqSy6G_Oa7sH",
        "outputId": "0100dda3-0211-41be-c32c-115dec58474f"
      },
      "outputs": [
        {
          "data": {
            "text/plain": [
              "<matplotlib.legend.Legend at 0x7f83c318d110>"
            ]
          },
          "execution_count": 10,
          "metadata": {},
          "output_type": "execute_result"
        },
        {
          "data": {
            "image/png": "[encoded data removed]",
            "text/plain": [
              "<Figure size 576x432 with 1 Axes>"
            ]
          },
          "metadata": {
            "needs_background": "light"
          },
          "output_type": "display_data"
        }
      ],
      "source": [
        "plt.figure(figsize =(8, 6))\n",
        "f = sn.countplot(x='cp', data=df, hue='target')\n",
        "f.set_title(\"Heart Disease Presence Distribution\")\n",
        "f.set_xticklabels(['Typical Angina', 'Atypical Angina', 'Non-anginal Pain', 'Asymptomatic'])\n",
        "plt.ylabel(\"Chest Pain Type\")\n",
        "plt.xlabel(\"\")\n",
        "plt.legend(['No Disease', 'Disease'])"
      ]
    },
    {
      "cell_type": "markdown",
      "id": "Cdc0AjTnceAo",
      "metadata": {
        "id": "Cdc0AjTnceAo"
      },
      "source": [
        "From the above figure we can determine that having chest pain might not be indicative of heart disease."
      ]
    },
    {
      "cell_type": "markdown",
      "id": "HHCOEa2PbDFe",
      "metadata": {
        "id": "HHCOEa2PbDFe"
      },
      "source": [
        "### Age vs. Max Heart Rate for Heart Disease"
      ]
    },
    {
      "cell_type": "code",
      "execution_count": 11,
      "id": "xloOQvvebEBB",
      "metadata": {
        "colab": {
          "base_uri": "https://localhost:8080/",
          "height": 54
        },
        "id": "xloOQvvebEBB",
        "outputId": "85321a21-bfd7-46af-9b46-b5befbd3f2f6"
      },
      "outputs": [
        {
          "data": {
            "image/png": "[encoded data removed]",
            "text/plain": [
              "<Figure size 720x576 with 1 Axes>"
            ]
          },
          "metadata": {
            "needs_background": "light"
          },
          "output_type": "display_data"
        }
      ],
      "source": [
        "plt.figure(figsize=(10, 8))\n",
        "plt.scatter(df.age[df.target==1], df.thalach[df.target==1], c=\"salmon\")\n",
        "plt.scatter(df.age[df.target==0], df.thalach[df.target==0], c=\"lightblue\")\n",
        "plt.title(\"Heart Disease in function of Age and Max Heart Rate\")\n",
        "plt.xlabel(\"Age\")\n",
        "plt.ylabel(\"Max Heart Rate\")\n",
        "plt.legend([\"Disease\", \"No Disease\"]);"
      ]
    },
    {
      "cell_type": "markdown",
      "id": "tu3A5E4kcKNv",
      "metadata": {
        "id": "tu3A5E4kcKNv"
      },
      "source": [
        "From the above scatter plot we can determine that maximum heart rate can be very predictive for the presence of a disease, regardless of age."
      ]
    },
    {
      "cell_type": "markdown",
      "id": "a66Uh1oKbMjh",
      "metadata": {
        "id": "a66Uh1oKbMjh"
      },
      "source": [
        "### Plot target column"
      ]
    },
    {
      "cell_type": "code",
      "execution_count": 12,
      "id": "mht_Bo4SbONN",
      "metadata": {
        "colab": {
          "base_uri": "https://localhost:8080/",
          "height": 54
        },
        "id": "mht_Bo4SbONN",
        "outputId": "de7cf130-781a-4f1e-907a-80d25b3fb2f6"
      },
      "outputs": [
        {
          "data": {
            "image/png": "[encoded data removed]",
            "text/plain": [
              "<Figure size 720x576 with 1 Axes>"
            ]
          },
          "metadata": {
            "needs_background": "light"
          },
          "output_type": "display_data"
        }
      ],
      "source": [
        "plt.figure(figsize =(10, 8))\n",
        "f = sn.countplot(x='target', data=df)\n",
        "f.set_title(\"Heart Disease Presence Distribution\")\n",
        "f.set_xticklabels(['No Heart disease', 'Heart Disease'])\n",
        "plt.xlabel(\"\");"
      ]
    },
    {
      "cell_type": "markdown",
      "id": "hALp8-om5GFm",
      "metadata": {
        "id": "hALp8-om5GFm"
      },
      "source": [
        "From the above histogram we can conclude that the data in the target variable is balanced."
      ]
    },
    {
      "cell_type": "markdown",
      "id": "121EWBKubSme",
      "metadata": {
        "id": "121EWBKubSme"
      },
      "source": [
        "### Correlation Matrix(heat map)"
      ]
    },
    {
      "cell_type": "code",
      "execution_count": 13,
      "id": "em-Kkpa2bUEg",
      "metadata": {
        "colab": {
          "base_uri": "https://localhost:8080/",
          "height": 89
        },
        "id": "em-Kkpa2bUEg",
        "outputId": "37e343f1-600f-49b5-9429-910b1bbdb901"
      },
      "outputs": [
        {
          "data": {
            "text/plain": [
              "(14.5, -0.5)"
            ]
          },
          "execution_count": 13,
          "metadata": {},
          "output_type": "execute_result"
        },
        {
          "data": {
            "image/png": "[encoded data removed]",
            "text/plain": [
              "<Figure size 1080x720 with 2 Axes>"
            ]
          },
          "metadata": {
            "needs_background": "light"
          },
          "output_type": "display_data"
        }
      ],
      "source": [
        "corr = df.corr()\n",
        "fig, ax = plt.subplots(figsize=(15, 10))\n",
        "ax = sn.heatmap(corr, annot=True, linewidths=0.5, fmt=\".2f\", cmap=\"YlGnBu\");\n",
        "bottom, top = ax.get_ylim()\n",
        "ax.set_ylim(bottom + 0.5, top - 0.5)"
      ]
    },
    {
      "cell_type": "markdown",
      "id": "f3K8nyKfbq75",
      "metadata": {
        "id": "f3K8nyKfbq75"
      },
      "source": [
        "### Plot histograms for each variable"
      ]
    },
    {
      "cell_type": "code",
      "execution_count": 14,
      "id": "5i99yrOcbsjB",
      "metadata": {
        "colab": {
          "base_uri": "https://localhost:8080/",
          "height": 54
        },
        "id": "5i99yrOcbsjB",
        "outputId": "e940b2ad-91b7-4c8b-d8b0-e47b6376a298"
      },
      "outputs": [
        {
          "data": {
            "image/png": "[encoded data removed]",
            "text/plain": [
              "<Figure size 1080x1080 with 16 Axes>"
            ]
          },
          "metadata": {
            "needs_background": "light"
          },
          "output_type": "display_data"
        }
      ],
      "source": [
        "df.hist(figsize = (15, 15))\n",
        "plt.show()"
      ]
    },
    {
      "cell_type": "markdown",
      "id": "uYbIUfFycs40",
      "metadata": {
        "id": "uYbIUfFycs40"
      },
      "source": [
        "## Data Preprocessing"
      ]
    },
    {
      "cell_type": "markdown",
      "id": "n0lJbKW8jB_E",
      "metadata": {
        "id": "n0lJbKW8jB_E"
      },
      "source": [
        "### Checking the distribution of the target variable"
      ]
    },
    {
      "cell_type": "markdown",
      "id": "hKxzY2OKvcLz",
      "metadata": {
        "id": "hKxzY2OKvcLz"
      },
      "source": [
        "##### Splitting categorical columns"
      ]
    },
    {
      "cell_type": "code",
      "execution_count": 15,
      "id": "7uqYLARLcv2q",
      "metadata": {
        "id": "7uqYLARLcv2q"
      },
      "outputs": [],
      "source": [
        "df = pd.get_dummies(df, columns = ['cp', 'restecg', 'slope', 'ca', 'thal'])"
      ]
    },
    {
      "cell_type": "markdown",
      "id": "9Hzd6yYfLcfF",
      "metadata": {
        "id": "9Hzd6yYfLcfF"
      },
      "source": []
    },
    {
      "cell_type": "code",
      "execution_count": 16,
      "id": "Qe9JhR2D2_ZV",
      "metadata": {
        "colab": {
          "base_uri": "https://localhost:8080/"
        },
        "id": "Qe9JhR2D2_ZV",
        "outputId": "f9634ab5-1c4b-4dc1-947a-2d800cdc85fd"
      },
      "outputs": [
        {
          "name": "stdout",
          "output_type": "stream",
          "text": [
            "<class 'pandas.core.frame.DataFrame'>\n",
            "RangeIndex: 303 entries, 0 to 302\n",
            "Data columns (total 28 columns):\n",
            " #   Column     Non-Null Count  Dtype  \n",
            "---  ------     --------------  -----  \n",
            " 0   age        303 non-null    int64  \n",
            " 1   sex        303 non-null    int64  \n",
            " 2   trestbps   303 non-null    int64  \n",
            " 3   chol       303 non-null    int64  \n",
            " 4   fbs        303 non-null    int64  \n",
            " 5   thalach    303 non-null    int64  \n",
            " 6   exang      303 non-null    int64  \n",
            " 7   oldpeak    303 non-null    float64\n",
            " 8   target     303 non-null    int64  \n",
            " 9   cp_0       303 non-null    uint8  \n",
            " 10  cp_1       303 non-null    uint8  \n",
            " 11  cp_2       303 non-null    uint8  \n",
            " 12  cp_3       303 non-null    uint8  \n",
            " 13  restecg_0  303 non-null    uint8  \n",
            " 14  restecg_1  303 non-null    uint8  \n",
            " 15  restecg_2  303 non-null    uint8  \n",
            " 16  slope_0    303 non-null    uint8  \n",
            " 17  slope_1    303 non-null    uint8  \n",
            " 18  slope_2    303 non-null    uint8  \n",
            " 19  ca_0       303 non-null    uint8  \n",
            " 20  ca_1       303 non-null    uint8  \n",
            " 21  ca_2       303 non-null    uint8  \n",
            " 22  ca_3       303 non-null    uint8  \n",
            " 23  ca_4       303 non-null    uint8  \n",
            " 24  thal_0     303 non-null    uint8  \n",
            " 25  thal_1     303 non-null    uint8  \n",
            " 26  thal_2     303 non-null    uint8  \n",
            " 27  thal_3     303 non-null    uint8  \n",
            "dtypes: float64(1), int64(8), uint8(19)\n",
            "memory usage: 27.1 KB\n"
          ]
        }
      ],
      "source": [
        "df.info()"
      ]
    },
    {
      "cell_type": "code",
      "execution_count": 17,
      "id": "el73KiCcRpDh",
      "metadata": {
        "colab": {
          "base_uri": "https://localhost:8080/",
          "height": 300
        },
        "id": "el73KiCcRpDh",
        "outputId": "5f7dbae0-1b39-4b95-fb8c-6e9730e5fd3a"
      },
      "outputs": [
        {
          "data": {
            "text/html": [
              "\n",
              "  <div id=\"df-27d62144-b3a2-4af9-9b41-c6471ae35757\">\n",
              "    <div class=\"colab-df-container\">\n",
              "      <div>\n",
              "<style scoped>\n",
              "    .dataframe tbody tr th:only-of-type {\n",
              "        vertical-align: middle;\n",
              "    }\n",
              "\n",
              "    .dataframe tbody tr th {\n",
              "        vertical-align: top;\n",
              "    }\n",
              "\n",
              "    .dataframe thead th {\n",
              "        text-align: right;\n",
              "    }\n",
              "</style>\n",
              "<table border=\"1\" class=\"dataframe\">\n",
              "  <thead>\n",
              "    <tr style=\"text-align: right;\">\n",
              "      <th></th>\n",
              "      <th>age</th>\n",
              "      <th>sex</th>\n",
              "      <th>trestbps</th>\n",
              "      <th>chol</th>\n",
              "      <th>fbs</th>\n",
              "      <th>thalach</th>\n",
              "      <th>exang</th>\n",
              "      <th>oldpeak</th>\n",
              "      <th>target</th>\n",
              "      <th>cp_0</th>\n",
              "      <th>...</th>\n",
              "      <th>slope_2</th>\n",
              "      <th>ca_0</th>\n",
              "      <th>ca_1</th>\n",
              "      <th>ca_2</th>\n",
              "      <th>ca_3</th>\n",
              "      <th>ca_4</th>\n",
              "      <th>thal_0</th>\n",
              "      <th>thal_1</th>\n",
              "      <th>thal_2</th>\n",
              "      <th>thal_3</th>\n",
              "    </tr>\n",
              "  </thead>\n",
              "  <tbody>\n",
              "    <tr>\n",
              "      <th>298</th>\n",
              "      <td>57</td>\n",
              "      <td>0</td>\n",
              "      <td>140</td>\n",
              "      <td>241</td>\n",
              "      <td>0</td>\n",
              "      <td>123</td>\n",
              "      <td>1</td>\n",
              "      <td>0.2</td>\n",
              "      <td>0</td>\n",
              "      <td>1</td>\n",
              "      <td>...</td>\n",
              "      <td>0</td>\n",
              "      <td>1</td>\n",
              "      <td>0</td>\n",
              "      <td>0</td>\n",
              "      <td>0</td>\n",
              "      <td>0</td>\n",
              "      <td>0</td>\n",
              "      <td>0</td>\n",
              "      <td>0</td>\n",
              "      <td>1</td>\n",
              "    </tr>\n",
              "    <tr>\n",
              "      <th>299</th>\n",
              "      <td>45</td>\n",
              "      <td>1</td>\n",
              "      <td>110</td>\n",
              "      <td>264</td>\n",
              "      <td>0</td>\n",
              "      <td>132</td>\n",
              "      <td>0</td>\n",
              "      <td>1.2</td>\n",
              "      <td>0</td>\n",
              "      <td>0</td>\n",
              "      <td>...</td>\n",
              "      <td>0</td>\n",
              "      <td>1</td>\n",
              "      <td>0</td>\n",
              "      <td>0</td>\n",
              "      <td>0</td>\n",
              "      <td>0</td>\n",
              "      <td>0</td>\n",
              "      <td>0</td>\n",
              "      <td>0</td>\n",
              "      <td>1</td>\n",
              "    </tr>\n",
              "    <tr>\n",
              "      <th>300</th>\n",
              "      <td>68</td>\n",
              "      <td>1</td>\n",
              "      <td>144</td>\n",
              "      <td>193</td>\n",
              "      <td>1</td>\n",
              "      <td>141</td>\n",
              "      <td>0</td>\n",
              "      <td>3.4</td>\n",
              "      <td>0</td>\n",
              "      <td>1</td>\n",
              "      <td>...</td>\n",
              "      <td>0</td>\n",
              "      <td>0</td>\n",
              "      <td>0</td>\n",
              "      <td>1</td>\n",
              "      <td>0</td>\n",
              "      <td>0</td>\n",
              "      <td>0</td>\n",
              "      <td>0</td>\n",
              "      <td>0</td>\n",
              "      <td>1</td>\n",
              "    </tr>\n",
              "    <tr>\n",
              "      <th>301</th>\n",
              "      <td>57</td>\n",
              "      <td>1</td>\n",
              "      <td>130</td>\n",
              "      <td>131</td>\n",
              "      <td>0</td>\n",
              "      <td>115</td>\n",
              "      <td>1</td>\n",
              "      <td>1.2</td>\n",
              "      <td>0</td>\n",
              "      <td>1</td>\n",
              "      <td>...</td>\n",
              "      <td>0</td>\n",
              "      <td>0</td>\n",
              "      <td>1</td>\n",
              "      <td>0</td>\n",
              "      <td>0</td>\n",
              "      <td>0</td>\n",
              "      <td>0</td>\n",
              "      <td>0</td>\n",
              "      <td>0</td>\n",
              "      <td>1</td>\n",
              "    </tr>\n",
              "    <tr>\n",
              "      <th>302</th>\n",
              "      <td>57</td>\n",
              "      <td>0</td>\n",
              "      <td>130</td>\n",
              "      <td>236</td>\n",
              "      <td>0</td>\n",
              "      <td>174</td>\n",
              "      <td>0</td>\n",
              "      <td>0.0</td>\n",
              "      <td>0</td>\n",
              "      <td>0</td>\n",
              "      <td>...</td>\n",
              "      <td>0</td>\n",
              "      <td>0</td>\n",
              "      <td>1</td>\n",
              "      <td>0</td>\n",
              "      <td>0</td>\n",
              "      <td>0</td>\n",
              "      <td>0</td>\n",
              "      <td>0</td>\n",
              "      <td>1</td>\n",
              "      <td>0</td>\n",
              "    </tr>\n",
              "  </tbody>\n",
              "</table>\n",
              "<p>5 rows × 28 columns</p>\n",
              "</div>\n",
              "      <button class=\"colab-df-convert\" onclick=\"convertToInteractive('df-27d62144-b3a2-4af9-9b41-c6471ae35757')\"\n",
              "              title=\"Convert this dataframe to an interactive table.\"\n",
              "              style=\"display:none;\">\n",
              "        \n",
              "  <svg xmlns=\"http://www.w3.org/2000/svg\" height=\"24px\"viewBox=\"0 0 24 24\"\n",
              "       width=\"24px\">\n",
              "    <path d=\"M0 0h24v24H0V0z\" fill=\"none\"/>\n",
              "    <path d=\"M18.56 5.44l.94 2.06.94-2.06 2.06-.94-2.06-.94-.94-2.06-.94 2.06-2.06.94zm-11 1L8.5 8.5l.94-2.06 2.06-.94-2.06-.94L8.5 2.5l-.94 2.06-2.06.94zm10 10l.94 2.06.94-2.06 2.06-.94-2.06-.94-.94-2.06-.94 2.06-2.06.94z\"/><path d=\"M17.41 7.96l-1.37-1.37c-.4-.4-.92-.59-1.43-.59-.52 0-1.04.2-1.43.59L10.3 9.45l-7.72 7.72c-.78.78-.78 2.05 0 2.83L4 21.41c.39.39.9.59 1.41.59.51 0 1.02-.2 1.41-.59l7.78-7.78 2.81-2.81c.8-.78.8-2.07 0-2.86zM5.41 20L4 18.59l7.72-7.72 1.47 1.35L5.41 20z\"/>\n",
              "  </svg>\n",
              "      </button>\n",
              "      \n",
              "  <style>\n",
              "    .colab-df-container {\n",
              "      display:flex;\n",
              "      flex-wrap:wrap;\n",
              "      gap: 12px;\n",
              "    }\n",
              "\n",
              "    .colab-df-convert {\n",
              "      background-color: #E8F0FE;\n",
              "      border: none;\n",
              "      border-radius: 50%;\n",
              "      cursor: pointer;\n",
              "      display: none;\n",
              "      fill: #1967D2;\n",
              "      height: 32px;\n",
              "      padding: 0 0 0 0;\n",
              "      width: 32px;\n",
              "    }\n",
              "\n",
              "    .colab-df-convert:hover {\n",
              "      background-color: #E2EBFA;\n",
              "      box-shadow: 0px 1px 2px rgba(60, 64, 67, 0.3), 0px 1px 3px 1px rgba(60, 64, 67, 0.15);\n",
              "      fill: #174EA6;\n",
              "    }\n",
              "\n",
              "    [theme=dark] .colab-df-convert {\n",
              "      background-color: #3B4455;\n",
              "      fill: #D2E3FC;\n",
              "    }\n",
              "\n",
              "    [theme=dark] .colab-df-convert:hover {\n",
              "      background-color: #434B5C;\n",
              "      box-shadow: 0px 1px 3px 1px rgba(0, 0, 0, 0.15);\n",
              "      filter: drop-shadow(0px 1px 2px rgba(0, 0, 0, 0.3));\n",
              "      fill: #FFFFFF;\n",
              "    }\n",
              "  </style>\n",
              "\n",
              "      <script>\n",
              "        const buttonEl =\n",
              "          document.querySelector('#df-27d62144-b3a2-4af9-9b41-c6471ae35757 button.colab-df-convert');\n",
              "        buttonEl.style.display =\n",
              "          google.colab.kernel.accessAllowed ? 'block' : 'none';\n",
              "\n",
              "        async function convertToInteractive(key) {\n",
              "          const element = document.querySelector('#df-27d62144-b3a2-4af9-9b41-c6471ae35757');\n",
              "          const dataTable =\n",
              "            await google.colab.kernel.invokeFunction('convertToInteractive',\n",
              "                                                     [key], {});\n",
              "          if (!dataTable) return;\n",
              "\n",
              "          const docLinkHtml = 'Like what you see? Visit the ' +\n",
              "            '<a target=\"_blank\" href=https://colab.research.google.com/notebooks/data_table.ipynb>data table notebook</a>'\n",
              "            + ' to learn more about interactive tables.';\n",
              "          element.innerHTML = '';\n",
              "          dataTable['output_type'] = 'display_data';\n",
              "          await google.colab.output.renderOutput(dataTable, element);\n",
              "          const docLink = document.createElement('div');\n",
              "          docLink.innerHTML = docLinkHtml;\n",
              "          element.appendChild(docLink);\n",
              "        }\n",
              "      </script>\n",
              "    </div>\n",
              "  </div>\n",
              "  "
            ],
            "text/plain": [
              "     age  sex  trestbps  chol  fbs  thalach  exang  oldpeak  target  cp_0  \\\n",
              "298   57    0       140   241    0      123      1      0.2       0     1   \n",
              "299   45    1       110   264    0      132      0      1.2       0     0   \n",
              "300   68    1       144   193    1      141      0      3.4       0     1   \n",
              "301   57    1       130   131    0      115      1      1.2       0     1   \n",
              "302   57    0       130   236    0      174      0      0.0       0     0   \n",
              "\n",
              "     ...  slope_2  ca_0  ca_1  ca_2  ca_3  ca_4  thal_0  thal_1  thal_2  \\\n",
              "298  ...        0     1     0     0     0     0       0       0       0   \n",
              "299  ...        0     1     0     0     0     0       0       0       0   \n",
              "300  ...        0     0     0     1     0     0       0       0       0   \n",
              "301  ...        0     0     1     0     0     0       0       0       0   \n",
              "302  ...        0     0     1     0     0     0       0       0       1   \n",
              "\n",
              "     thal_3  \n",
              "298       1  \n",
              "299       1  \n",
              "300       1  \n",
              "301       1  \n",
              "302       0  \n",
              "\n",
              "[5 rows x 28 columns]"
            ]
          },
          "execution_count": 17,
          "metadata": {},
          "output_type": "execute_result"
        }
      ],
      "source": [
        "df.tail()"
      ]
    },
    {
      "cell_type": "markdown",
      "id": "xU_2ZadijKN7",
      "metadata": {
        "id": "xU_2ZadijKN7"
      },
      "source": [
        "### Splitting the features and the target"
      ]
    },
    {
      "cell_type": "code",
      "execution_count": 18,
      "id": "tXO7g-aFjOJD",
      "metadata": {
        "colab": {
          "base_uri": "https://localhost:8080/"
        },
        "id": "tXO7g-aFjOJD",
        "outputId": "0dec3fc2-72e9-4806-b347-8d465268e882"
      },
      "outputs": [
        {
          "name": "stdout",
          "output_type": "stream",
          "text": [
            "(303, 27) (303,)\n"
          ]
        }
      ],
      "source": [
        "X = df.drop('target', axis=1)\n",
        "Y = df['target']\n",
        "print(X.shape, Y.shape)"
      ]
    },
    {
      "cell_type": "code",
      "execution_count": 19,
      "id": "TWCkLYoL5RVS",
      "metadata": {
        "colab": {
          "base_uri": "https://localhost:8080/"
        },
        "id": "TWCkLYoL5RVS",
        "outputId": "401b10db-7482-43d9-9496-0f1217485c2c"
      },
      "outputs": [
        {
          "data": {
            "text/plain": [
              "array([1, 0])"
            ]
          },
          "execution_count": 19,
          "metadata": {},
          "output_type": "execute_result"
        }
      ],
      "source": [
        "Y.unique()"
      ]
    },
    {
      "cell_type": "code",
      "execution_count": 20,
      "id": "VtSYLXD65aCb",
      "metadata": {
        "colab": {
          "base_uri": "https://localhost:8080/"
        },
        "id": "VtSYLXD65aCb",
        "outputId": "791f7ab1-d638-4823-feaa-4faa24404335"
      },
      "outputs": [
        {
          "data": {
            "text/plain": [
              "1    165\n",
              "0    138\n",
              "Name: target, dtype: int64"
            ]
          },
          "execution_count": 20,
          "metadata": {},
          "output_type": "execute_result"
        }
      ],
      "source": [
        "Y.value_counts()"
      ]
    },
    {
      "cell_type": "markdown",
      "id": "jTI4Ie-wjRtT",
      "metadata": {
        "id": "jTI4Ie-wjRtT"
      },
      "source": [
        "### Normalization"
      ]
    },
    {
      "cell_type": "code",
      "execution_count": 21,
      "id": "DdhLyX7Mjarq",
      "metadata": {
        "colab": {
          "base_uri": "https://localhost:8080/"
        },
        "id": "DdhLyX7Mjarq",
        "outputId": "9ca19793-a7f7-4249-8e91-0213514f3abd"
      },
      "outputs": [
        {
          "data": {
            "text/plain": [
              "array([[0.70833333, 1.        , 0.48113208, ..., 1.        , 0.        ,\n",
              "        0.        ],\n",
              "       [0.16666667, 1.        , 0.33962264, ..., 0.        , 1.        ,\n",
              "        0.        ],\n",
              "       [0.25      , 0.        , 0.33962264, ..., 0.        , 1.        ,\n",
              "        0.        ],\n",
              "       ...,\n",
              "       [0.8125    , 1.        , 0.47169811, ..., 0.        , 0.        ,\n",
              "        1.        ],\n",
              "       [0.58333333, 1.        , 0.33962264, ..., 0.        , 0.        ,\n",
              "        1.        ],\n",
              "       [0.58333333, 0.        , 0.33962264, ..., 0.        , 1.        ,\n",
              "        0.        ]])"
            ]
          },
          "execution_count": 21,
          "metadata": {},
          "output_type": "execute_result"
        }
      ],
      "source": [
        "scaler = MinMaxScaler()\n",
        "X_norm = scaler.fit_transform(X)\n",
        "\n",
        "X_norm"
      ]
    },
    {
      "cell_type": "markdown",
      "id": "rXfepfP1jet3",
      "metadata": {
        "id": "rXfepfP1jet3"
      },
      "source": [
        "### Splitting the data into training set and testing set"
      ]
    },
    {
      "cell_type": "code",
      "execution_count": 22,
      "id": "m24FcKsGjfrI",
      "metadata": {
        "id": "m24FcKsGjfrI"
      },
      "outputs": [],
      "source": [
        "X_train, X_test, Y_train, Y_test = train_test_split(X_norm, Y, test_size=0.2, stratify=Y, random_state=100)"
      ]
    },
    {
      "cell_type": "code",
      "execution_count": 23,
      "id": "3LcN1IyKlX0m",
      "metadata": {
        "colab": {
          "base_uri": "https://localhost:8080/"
        },
        "id": "3LcN1IyKlX0m",
        "outputId": "8d8f894f-17c0-4b14-d184-7457aaaefa4b"
      },
      "outputs": [
        {
          "name": "stdout",
          "output_type": "stream",
          "text": [
            "(242, 27) (61, 27)\n"
          ]
        }
      ],
      "source": [
        "print(X_train.shape, X_test.shape)"
      ]
    },
    {
      "cell_type": "markdown",
      "id": "mQU2fpVLmNO7",
      "metadata": {
        "id": "mQU2fpVLmNO7"
      },
      "source": [
        "## Data Models"
      ]
    },
    {
      "cell_type": "markdown",
      "id": "ZVavroAZRqK2",
      "metadata": {
        "id": "ZVavroAZRqK2"
      },
      "source": [
        "### Confusion Matrix Function"
      ]
    },
    {
      "cell_type": "code",
      "execution_count": 24,
      "id": "ABM-_5IORv9f",
      "metadata": {
        "id": "ABM-_5IORv9f"
      },
      "outputs": [],
      "source": [
        "def confusionmatrix(model):\n",
        "    cm = tf.math.confusion_matrix(labels=Y_test,predictions=Y_pred)\n",
        "    \n",
        "    plt.figure(figsize = (10,7))\n",
        "    sn.heatmap(cm, annot=True, fmt='d')\n",
        "    plt.xlabel('Predicted')\n",
        "    plt.ylabel('Truth')"
      ]
    },
    {
      "cell_type": "markdown",
      "id": "Yzoyu9olmq6J",
      "metadata": {
        "id": "Yzoyu9olmq6J"
      },
      "source": [
        "### Logistic Regression"
      ]
    },
    {
      "cell_type": "markdown",
      "id": "qN7kGhhD-k6J",
      "metadata": {
        "id": "qN7kGhhD-k6J"
      },
      "source": [
        "#### Using `default` hyperparameter"
      ]
    },
    {
      "cell_type": "code",
      "execution_count": 25,
      "id": "n-TorVXAm4SG",
      "metadata": {
        "colab": {
          "base_uri": "https://localhost:8080/"
        },
        "id": "n-TorVXAm4SG",
        "outputId": "028c020b-999e-4c0e-8529-eae13bdc93cd"
      },
      "outputs": [
        {
          "name": "stdout",
          "output_type": "stream",
          "text": [
            "Training data accuracy:  86.36363636363636\n",
            "Testing data accuracy:  86.88524590163934\n",
            "--------------------------------------------------\n",
            "Mean Absolute Error:  0.13114754098360656\n",
            "Mean Squared Error:  0.13114754098360656\n",
            "Root Mean Squared Error:  0.3621429841700741\n",
            "--------------------------------------------------\n",
            "              precision    recall  f1-score   support\n",
            "\n",
            "           0       0.88      0.82      0.85        28\n",
            "           1       0.86      0.91      0.88        33\n",
            "\n",
            "    accuracy                           0.87        61\n",
            "   macro avg       0.87      0.87      0.87        61\n",
            "weighted avg       0.87      0.87      0.87        61\n",
            "\n"
          ]
        },
        {
          "name": "stderr",
          "output_type": "stream",
          "text": [
            "/usr/local/lib/python3.7/dist-packages/sklearn/linear_model/_logistic.py:818: ConvergenceWarning: lbfgs failed to converge (status=1):\n",
            "STOP: TOTAL NO. of ITERATIONS REACHED LIMIT.\n",
            "\n",
            "Increase the number of iterations (max_iter) or scale the data as shown in:\n",
            "    https://scikit-learn.org/stable/modules/preprocessing.html\n",
            "Please also refer to the documentation for alternative solver options:\n",
            "    https://scikit-learn.org/stable/modules/linear_model.html#logistic-regression\n",
            "  extra_warning_msg=_LOGISTIC_SOLVER_CONVERGENCE_MSG,\n"
          ]
        }
      ],
      "source": [
        "lr1 = LogisticRegression(penalty='none', random_state=100)\n",
        "lr1.fit(X_train, Y_train)\n",
        "Y_pred = lr1.predict(X_test)\n",
        "lr_train_acc = lr1.score(X_train, Y_train)*100\n",
        "lr_test_acc = lr1.score(X_test, Y_test)*100\n",
        "f1_score1 = f1_score(Y_test, Y_pred, average='binary')*100\n",
        "\n",
        "print('Training data accuracy: ', lr_train_acc)\n",
        "print('Testing data accuracy: ', lr_test_acc)\n",
        "print('-'*50)\n",
        "print('Mean Absolute Error: ', mean_absolute_error(Y_test, Y_pred))\n",
        "print('Mean Squared Error: ',mean_squared_error(Y_test, Y_pred))\n",
        "print('Root Mean Squared Error: ',np.sqrt(mean_squared_error(Y_test, Y_pred)))\n",
        "print('-'*50)\n",
        "print(classification_report(Y_test, Y_pred))"
      ]
    },
    {
      "cell_type": "code",
      "execution_count": 26,
      "id": "FZenKK1eSVIF",
      "metadata": {
        "colab": {
          "base_uri": "https://localhost:8080/",
          "height": 54
        },
        "id": "FZenKK1eSVIF",
        "outputId": "4a9309ca-d0d9-43d8-a7d6-1dd2fed291b8"
      },
      "outputs": [
        {
          "data": {
            "image/png": "[encoded data removed]",
            "text/plain": [
              "<Figure size 720x504 with 2 Axes>"
            ]
          },
          "metadata": {
            "needs_background": "light"
          },
          "output_type": "display_data"
        }
      ],
      "source": [
        "confusionmatrix(lr1)"
      ]
    },
    {
      "cell_type": "code",
      "execution_count": 27,
      "id": "X4ZUeIMMh6ZS",
      "metadata": {
        "id": "X4ZUeIMMh6ZS"
      },
      "outputs": [],
      "source": [
        "fpr1, tpr1, thresholds1 = roc_curve(Y_test, Y_pred)\n",
        "roc_auc1 = roc_auc_score(Y_test, Y_pred)"
      ]
    },
    {
      "cell_type": "markdown",
      "id": "iHKvdTGD-tSl",
      "metadata": {
        "id": "iHKvdTGD-tSl"
      },
      "source": [
        "#### Using `Liblinear` hyperparameter\n",
        "\n"
      ]
    },
    {
      "cell_type": "code",
      "execution_count": 28,
      "id": "NNBkdBkl-2lZ",
      "metadata": {
        "colab": {
          "base_uri": "https://localhost:8080/"
        },
        "id": "NNBkdBkl-2lZ",
        "outputId": "1eafd67a-e8c7-4948-ff16-869fa91d4e4b"
      },
      "outputs": [
        {
          "name": "stdout",
          "output_type": "stream",
          "text": [
            "Training data accuracy:  85.12396694214877\n",
            "Testing data accuracy:  91.80327868852459\n",
            "--------------------------------------------------\n",
            "Mean Absolute Error:  0.08196721311475409\n",
            "Mean Squared Error:  0.08196721311475409\n",
            "Root Mean Squared Error:  0.2862991671569341\n",
            "--------------------------------------------------\n",
            "              precision    recall  f1-score   support\n",
            "\n",
            "           0       0.96      0.86      0.91        28\n",
            "           1       0.89      0.97      0.93        33\n",
            "\n",
            "    accuracy                           0.92        61\n",
            "   macro avg       0.92      0.91      0.92        61\n",
            "weighted avg       0.92      0.92      0.92        61\n",
            "\n"
          ]
        }
      ],
      "source": [
        "lr2 = LogisticRegression(penalty='l2', solver='liblinear', random_state=100, C=0.1)\n",
        "lr2.fit(X_train, Y_train)\n",
        "Y_pred = lr2.predict(X_test)\n",
        "lr_train_acc = lr2.score(X_train, Y_train)*100\n",
        "lr_test_acc = lr2.score(X_test, Y_test)*100\n",
        "f1_score2 = f1_score(Y_test, Y_pred, average='binary')*100\n",
        "\n",
        "print('Training data accuracy: ', lr_train_acc)\n",
        "print('Testing data accuracy: ', lr_test_acc)\n",
        "print('-'*50)\n",
        "print('Mean Absolute Error: ', mean_absolute_error(Y_test, Y_pred))\n",
        "print('Mean Squared Error: ',mean_squared_error(Y_test, Y_pred))\n",
        "print('Root Mean Squared Error: ',np.sqrt(mean_squared_error(Y_test, Y_pred)))\n",
        "print('-'*50)\n",
        "print(classification_report(Y_test, Y_pred))"
      ]
    },
    {
      "cell_type": "code",
      "execution_count": 29,
      "id": "hp4TRHycSWrK",
      "metadata": {
        "colab": {
          "base_uri": "https://localhost:8080/",
          "height": 54
        },
        "id": "hp4TRHycSWrK",
        "outputId": "4e2e7aa7-2bf4-4e74-c6be-dc6a4ef10f4d"
      },
      "outputs": [
        {
          "data": {
            "image/png": "[encoded data removed]",
            "text/plain": [
              "<Figure size 720x504 with 2 Axes>"
            ]
          },
          "metadata": {
            "needs_background": "light"
          },
          "output_type": "display_data"
        }
      ],
      "source": [
        "confusionmatrix(lr2)"
      ]
    },
    {
      "cell_type": "code",
      "execution_count": 30,
      "id": "F_rRRbvEiBRR",
      "metadata": {
        "id": "F_rRRbvEiBRR"
      },
      "outputs": [],
      "source": [
        "fpr2, tpr2, thresholds2 = roc_curve(Y_test, Y_pred)\n",
        "roc_auc2 = roc_auc_score(Y_test, Y_pred)"
      ]
    },
    {
      "cell_type": "markdown",
      "id": "JC7jxLtv_DDH",
      "metadata": {
        "id": "JC7jxLtv_DDH"
      },
      "source": [
        "#### ROC Curve Comparison"
      ]
    },
    {
      "cell_type": "code",
      "execution_count": 31,
      "id": "U1gjgB6DjY1c",
      "metadata": {
        "colab": {
          "base_uri": "https://localhost:8080/",
          "height": 242
        },
        "id": "U1gjgB6DjY1c",
        "outputId": "e900456a-df55-45f2-de9d-66946843c10b"
      },
      "outputs": [
        {
          "data": {
            "text/html": [
              "\n",
              "  <div id=\"df-03168abb-f9a9-4321-b4f7-353770703241\">\n",
              "    <div class=\"colab-df-container\">\n",
              "      <div>\n",
              "<style scoped>\n",
              "    .dataframe tbody tr th:only-of-type {\n",
              "        vertical-align: middle;\n",
              "    }\n",
              "\n",
              "    .dataframe tbody tr th {\n",
              "        vertical-align: top;\n",
              "    }\n",
              "\n",
              "    .dataframe thead th {\n",
              "        text-align: right;\n",
              "    }\n",
              "</style>\n",
              "<table border=\"1\" class=\"dataframe\">\n",
              "  <thead>\n",
              "    <tr style=\"text-align: right;\">\n",
              "      <th></th>\n",
              "      <th>ROC Score</th>\n",
              "    </tr>\n",
              "    <tr>\n",
              "      <th>Logistic Regression</th>\n",
              "      <th></th>\n",
              "    </tr>\n",
              "  </thead>\n",
              "  <tbody>\n",
              "    <tr>\n",
              "      <th>Model 1</th>\n",
              "      <td>0.86526</td>\n",
              "    </tr>\n",
              "    <tr>\n",
              "      <th>Model 2</th>\n",
              "      <td>0.91342</td>\n",
              "    </tr>\n",
              "  </tbody>\n",
              "</table>\n",
              "</div>\n",
              "      <button class=\"colab-df-convert\" onclick=\"convertToInteractive('df-03168abb-f9a9-4321-b4f7-353770703241')\"\n",
              "              title=\"Convert this dataframe to an interactive table.\"\n",
              "              style=\"display:none;\">\n",
              "        \n",
              "  <svg xmlns=\"http://www.w3.org/2000/svg\" height=\"24px\"viewBox=\"0 0 24 24\"\n",
              "       width=\"24px\">\n",
              "    <path d=\"M0 0h24v24H0V0z\" fill=\"none\"/>\n",
              "    <path d=\"M18.56 5.44l.94 2.06.94-2.06 2.06-.94-2.06-.94-.94-2.06-.94 2.06-2.06.94zm-11 1L8.5 8.5l.94-2.06 2.06-.94-2.06-.94L8.5 2.5l-.94 2.06-2.06.94zm10 10l.94 2.06.94-2.06 2.06-.94-2.06-.94-.94-2.06-.94 2.06-2.06.94z\"/><path d=\"M17.41 7.96l-1.37-1.37c-.4-.4-.92-.59-1.43-.59-.52 0-1.04.2-1.43.59L10.3 9.45l-7.72 7.72c-.78.78-.78 2.05 0 2.83L4 21.41c.39.39.9.59 1.41.59.51 0 1.02-.2 1.41-.59l7.78-7.78 2.81-2.81c.8-.78.8-2.07 0-2.86zM5.41 20L4 18.59l7.72-7.72 1.47 1.35L5.41 20z\"/>\n",
              "  </svg>\n",
              "      </button>\n",
              "      \n",
              "  <style>\n",
              "    .colab-df-container {\n",
              "      display:flex;\n",
              "      flex-wrap:wrap;\n",
              "      gap: 12px;\n",
              "    }\n",
              "\n",
              "    .colab-df-convert {\n",
              "      background-color: #E8F0FE;\n",
              "      border: none;\n",
              "      border-radius: 50%;\n",
              "      cursor: pointer;\n",
              "      display: none;\n",
              "      fill: #1967D2;\n",
              "      height: 32px;\n",
              "      padding: 0 0 0 0;\n",
              "      width: 32px;\n",
              "    }\n",
              "\n",
              "    .colab-df-convert:hover {\n",
              "      background-color: #E2EBFA;\n",
              "      box-shadow: 0px 1px 2px rgba(60, 64, 67, 0.3), 0px 1px 3px 1px rgba(60, 64, 67, 0.15);\n",
              "      fill: #174EA6;\n",
              "    }\n",
              "\n",
              "    [theme=dark] .colab-df-convert {\n",
              "      background-color: #3B4455;\n",
              "      fill: #D2E3FC;\n",
              "    }\n",
              "\n",
              "    [theme=dark] .colab-df-convert:hover {\n",
              "      background-color: #434B5C;\n",
              "      box-shadow: 0px 1px 3px 1px rgba(0, 0, 0, 0.15);\n",
              "      filter: drop-shadow(0px 1px 2px rgba(0, 0, 0, 0.3));\n",
              "      fill: #FFFFFF;\n",
              "    }\n",
              "  </style>\n",
              "\n",
              "      <script>\n",
              "        const buttonEl =\n",
              "          document.querySelector('#df-03168abb-f9a9-4321-b4f7-353770703241 button.colab-df-convert');\n",
              "        buttonEl.style.display =\n",
              "          google.colab.kernel.accessAllowed ? 'block' : 'none';\n",
              "\n",
              "        async function convertToInteractive(key) {\n",
              "          const element = document.querySelector('#df-03168abb-f9a9-4321-b4f7-353770703241');\n",
              "          const dataTable =\n",
              "            await google.colab.kernel.invokeFunction('convertToInteractive',\n",
              "                                                     [key], {});\n",
              "          if (!dataTable) return;\n",
              "\n",
              "          const docLinkHtml = 'Like what you see? Visit the ' +\n",
              "            '<a target=\"_blank\" href=https://colab.research.google.com/notebooks/data_table.ipynb>data table notebook</a>'\n",
              "            + ' to learn more about interactive tables.';\n",
              "          element.innerHTML = '';\n",
              "          dataTable['output_type'] = 'display_data';\n",
              "          await google.colab.output.renderOutput(dataTable, element);\n",
              "          const docLink = document.createElement('div');\n",
              "          docLink.innerHTML = docLinkHtml;\n",
              "          element.appendChild(docLink);\n",
              "        }\n",
              "      </script>\n",
              "    </div>\n",
              "  </div>\n",
              "  "
            ],
            "text/plain": [
              "                     ROC Score\n",
              "Logistic Regression           \n",
              "Model 1                0.86526\n",
              "Model 2                0.91342"
            ]
          },
          "execution_count": 31,
          "metadata": {},
          "output_type": "execute_result"
        }
      ],
      "source": [
        "roc_score_comparison=pd.DataFrame({'Logistic Regression':['Model 1','Model 2'],\n",
        "                    'ROC Score':[roc_auc1, roc_auc2]})\n",
        "roc_score_comparison_df=roc_score_comparison.sort_values(by='ROC Score')\n",
        "roc_score_comparison_df=roc_score_comparison_df.set_index('Logistic Regression')\n",
        "roc_score_comparison_df"
      ]
    },
    {
      "cell_type": "code",
      "execution_count": 32,
      "id": "MACURMZAhzl8",
      "metadata": {
        "colab": {
          "base_uri": "https://localhost:8080/",
          "height": 106
        },
        "id": "MACURMZAhzl8",
        "outputId": "396b6d6f-efed-461c-b74b-12263a1efd55"
      },
      "outputs": [
        {
          "data": {
            "text/plain": [
              "<matplotlib.legend.Legend at 0x7f83ba638e90>"
            ]
          },
          "execution_count": 32,
          "metadata": {},
          "output_type": "execute_result"
        },
        {
          "data": {
            "image/png": "[encoded data removed]",
            "text/plain": [
              "<Figure size 432x288 with 1 Axes>"
            ]
          },
          "metadata": {
            "needs_background": "light"
          },
          "output_type": "display_data"
        }
      ],
      "source": [
        "plt.plot(fpr1, tpr1, label='LR Model 1 (area = %0.3f)' % roc_auc1, color=\"orange\")\n",
        "plt.plot(fpr2, tpr2, label='LR Model 2 (area = %0.3f)' % roc_auc2, color=\"green\")\n",
        "plt.plot([0, 1], [0, 1], 'k--')  # random predictions curve\n",
        "plt.xlim([0.0, 1.0])\n",
        "plt.ylim([0.0, 1.0])\n",
        "plt.xlabel('False Positive Rate or (1 - Specifity)')\n",
        "plt.ylabel('True Positive Rate or (Sensitivity)')\n",
        "plt.title('LR Models ROC Curve Comparison')\n",
        "plt.legend(loc=\"lower right\")"
      ]
    },
    {
      "cell_type": "markdown",
      "id": "os1RydgWC4Ij",
      "metadata": {
        "id": "os1RydgWC4Ij"
      },
      "source": [
        "#### F1 Score comparison"
      ]
    },
    {
      "cell_type": "code",
      "execution_count": 33,
      "id": "riTwGXc6C-IO",
      "metadata": {
        "colab": {
          "base_uri": "https://localhost:8080/",
          "height": 193
        },
        "id": "riTwGXc6C-IO",
        "outputId": "6b061ae2-4615-41bd-9947-a3c9b2807294"
      },
      "outputs": [
        {
          "data": {
            "text/html": [
              "\n",
              "  <div id=\"df-400f0c86-7259-4f08-96fe-d48acabf33b3\">\n",
              "    <div class=\"colab-df-container\">\n",
              "      <div>\n",
              "<style scoped>\n",
              "    .dataframe tbody tr th:only-of-type {\n",
              "        vertical-align: middle;\n",
              "    }\n",
              "\n",
              "    .dataframe tbody tr th {\n",
              "        vertical-align: top;\n",
              "    }\n",
              "\n",
              "    .dataframe thead th {\n",
              "        text-align: right;\n",
              "    }\n",
              "</style>\n",
              "<table border=\"1\" class=\"dataframe\">\n",
              "  <thead>\n",
              "    <tr style=\"text-align: right;\">\n",
              "      <th></th>\n",
              "      <th>Logistic Regression</th>\n",
              "      <th>F1 Score</th>\n",
              "    </tr>\n",
              "  </thead>\n",
              "  <tbody>\n",
              "    <tr>\n",
              "      <th>0</th>\n",
              "      <td>Model 1</td>\n",
              "      <td>88.235294</td>\n",
              "    </tr>\n",
              "    <tr>\n",
              "      <th>1</th>\n",
              "      <td>Model 2</td>\n",
              "      <td>92.753623</td>\n",
              "    </tr>\n",
              "  </tbody>\n",
              "</table>\n",
              "</div>\n",
              "      <button class=\"colab-df-convert\" onclick=\"convertToInteractive('df-400f0c86-7259-4f08-96fe-d48acabf33b3')\"\n",
              "              title=\"Convert this dataframe to an interactive table.\"\n",
              "              style=\"display:none;\">\n",
              "        \n",
              "  <svg xmlns=\"http://www.w3.org/2000/svg\" height=\"24px\"viewBox=\"0 0 24 24\"\n",
              "       width=\"24px\">\n",
              "    <path d=\"M0 0h24v24H0V0z\" fill=\"none\"/>\n",
              "    <path d=\"M18.56 5.44l.94 2.06.94-2.06 2.06-.94-2.06-.94-.94-2.06-.94 2.06-2.06.94zm-11 1L8.5 8.5l.94-2.06 2.06-.94-2.06-.94L8.5 2.5l-.94 2.06-2.06.94zm10 10l.94 2.06.94-2.06 2.06-.94-2.06-.94-.94-2.06-.94 2.06-2.06.94z\"/><path d=\"M17.41 7.96l-1.37-1.37c-.4-.4-.92-.59-1.43-.59-.52 0-1.04.2-1.43.59L10.3 9.45l-7.72 7.72c-.78.78-.78 2.05 0 2.83L4 21.41c.39.39.9.59 1.41.59.51 0 1.02-.2 1.41-.59l7.78-7.78 2.81-2.81c.8-.78.8-2.07 0-2.86zM5.41 20L4 18.59l7.72-7.72 1.47 1.35L5.41 20z\"/>\n",
              "  </svg>\n",
              "      </button>\n",
              "      \n",
              "  <style>\n",
              "    .colab-df-container {\n",
              "      display:flex;\n",
              "      flex-wrap:wrap;\n",
              "      gap: 12px;\n",
              "    }\n",
              "\n",
              "    .colab-df-convert {\n",
              "      background-color: #E8F0FE;\n",
              "      border: none;\n",
              "      border-radius: 50%;\n",
              "      cursor: pointer;\n",
              "      display: none;\n",
              "      fill: #1967D2;\n",
              "      height: 32px;\n",
              "      padding: 0 0 0 0;\n",
              "      width: 32px;\n",
              "    }\n",
              "\n",
              "    .colab-df-convert:hover {\n",
              "      background-color: #E2EBFA;\n",
              "      box-shadow: 0px 1px 2px rgba(60, 64, 67, 0.3), 0px 1px 3px 1px rgba(60, 64, 67, 0.15);\n",
              "      fill: #174EA6;\n",
              "    }\n",
              "\n",
              "    [theme=dark] .colab-df-convert {\n",
              "      background-color: #3B4455;\n",
              "      fill: #D2E3FC;\n",
              "    }\n",
              "\n",
              "    [theme=dark] .colab-df-convert:hover {\n",
              "      background-color: #434B5C;\n",
              "      box-shadow: 0px 1px 3px 1px rgba(0, 0, 0, 0.15);\n",
              "      filter: drop-shadow(0px 1px 2px rgba(0, 0, 0, 0.3));\n",
              "      fill: #FFFFFF;\n",
              "    }\n",
              "  </style>\n",
              "\n",
              "      <script>\n",
              "        const buttonEl =\n",
              "          document.querySelector('#df-400f0c86-7259-4f08-96fe-d48acabf33b3 button.colab-df-convert');\n",
              "        buttonEl.style.display =\n",
              "          google.colab.kernel.accessAllowed ? 'block' : 'none';\n",
              "\n",
              "        async function convertToInteractive(key) {\n",
              "          const element = document.querySelector('#df-400f0c86-7259-4f08-96fe-d48acabf33b3');\n",
              "          const dataTable =\n",
              "            await google.colab.kernel.invokeFunction('convertToInteractive',\n",
              "                                                     [key], {});\n",
              "          if (!dataTable) return;\n",
              "\n",
              "          const docLinkHtml = 'Like what you see? Visit the ' +\n",
              "            '<a target=\"_blank\" href=https://colab.research.google.com/notebooks/data_table.ipynb>data table notebook</a>'\n",
              "            + ' to learn more about interactive tables.';\n",
              "          element.innerHTML = '';\n",
              "          dataTable['output_type'] = 'display_data';\n",
              "          await google.colab.output.renderOutput(dataTable, element);\n",
              "          const docLink = document.createElement('div');\n",
              "          docLink.innerHTML = docLinkHtml;\n",
              "          element.appendChild(docLink);\n",
              "        }\n",
              "      </script>\n",
              "    </div>\n",
              "  </div>\n",
              "  "
            ],
            "text/plain": [
              "  Logistic Regression   F1 Score\n",
              "0             Model 1  88.235294\n",
              "1             Model 2  92.753623"
            ]
          },
          "execution_count": 33,
          "metadata": {},
          "output_type": "execute_result"
        }
      ],
      "source": [
        "models = pd.DataFrame({'Logistic Regression': ['Model 1', 'Model 2'], 'F1 Score': [f1_score1, f1_score2]})\n",
        "models"
      ]
    },
    {
      "cell_type": "code",
      "execution_count": 34,
      "id": "6mEQFbHbDqPy",
      "metadata": {
        "colab": {
          "base_uri": "https://localhost:8080/",
          "height": 106
        },
        "id": "6mEQFbHbDqPy",
        "outputId": "e99eaf50-083b-4e81-f1e9-d59c0aa1e94c"
      },
      "outputs": [
        {
          "data": {
            "text/plain": [
              "<matplotlib.axes._subplots.AxesSubplot at 0x7f83ba5ff190>"
            ]
          },
          "execution_count": 34,
          "metadata": {},
          "output_type": "execute_result"
        },
        {
          "data": {
            "image/png": "[encoded data removed]",
            "text/plain": [
              "<Figure size 576x360 with 1 Axes>"
            ]
          },
          "metadata": {
            "needs_background": "light"
          },
          "output_type": "display_data"
        }
      ],
      "source": [
        "plt.figure(figsize=(8,5))\n",
        "plt.title('Comparison of F1 Scores between 2 different models')\n",
        "sn.barplot(x='Logistic Regression', y='F1 Score', data=models, palette='viridis')"
      ]
    },
    {
      "cell_type": "markdown",
      "id": "X2IKvTrfDy7o",
      "metadata": {
        "id": "X2IKvTrfDy7o"
      },
      "source": [
        "#### Conclusion\n",
        "\n",
        "From the above analysis we can determine that the second model is the better of the two. \n",
        "\n",
        "So we will use the second model's f1 & roc score when comparing with other models."
      ]
    },
    {
      "cell_type": "code",
      "execution_count": 35,
      "id": "J5qcIDaiYG8p",
      "metadata": {
        "id": "J5qcIDaiYG8p"
      },
      "outputs": [],
      "source": [
        "lr_f1_score = f1_score2\n",
        "lr_roc_score = roc_auc2"
      ]
    },
    {
      "cell_type": "markdown",
      "id": "f78RKDkeEvFA",
      "metadata": {
        "id": "f78RKDkeEvFA"
      },
      "source": [
        "### Random Forest Classifier"
      ]
    },
    {
      "cell_type": "markdown",
      "id": "cY7OD-LLE3Yk",
      "metadata": {
        "id": "cY7OD-LLE3Yk"
      },
      "source": [
        "#### Using `Gini` hyperparameter"
      ]
    },
    {
      "cell_type": "code",
      "execution_count": 36,
      "id": "gV-voBOBE7i_",
      "metadata": {
        "colab": {
          "base_uri": "https://localhost:8080/"
        },
        "id": "gV-voBOBE7i_",
        "outputId": "68231b17-c0c1-4f15-e323-92edb47f39a1"
      },
      "outputs": [
        {
          "name": "stdout",
          "output_type": "stream",
          "text": [
            "Training data accuracy:  97.93388429752066\n",
            "Testing data accuracy:  81.9672131147541\n",
            "--------------------------------------------------\n",
            "Mean Absolute Error:  0.18032786885245902\n",
            "Mean Squared Error:  0.18032786885245902\n",
            "Root Mean Squared Error:  0.4246502900652006\n",
            "--------------------------------------------------\n",
            "              precision    recall  f1-score   support\n",
            "\n",
            "           0       0.87      0.71      0.78        28\n",
            "           1       0.79      0.91      0.85        33\n",
            "\n",
            "    accuracy                           0.82        61\n",
            "   macro avg       0.83      0.81      0.81        61\n",
            "weighted avg       0.83      0.82      0.82        61\n",
            "\n"
          ]
        }
      ],
      "source": [
        "rfc1 = RandomForestClassifier(n_estimators=10, criterion='gini', random_state=100, max_depth=8)\n",
        "rfc1.fit(X_train, Y_train)\n",
        "Y_pred = rfc1.predict(X_test)\n",
        "rfc_train_acc = rfc1.score(X_train, Y_train)*100\n",
        "rfc_test_acc = rfc1.score(X_test, Y_test)*100\n",
        "f1_score1 = f1_score(Y_test, Y_pred, average='binary')*100\n",
        "\n",
        "print('Training data accuracy: ', rfc_train_acc)\n",
        "print('Testing data accuracy: ', rfc_test_acc)\n",
        "print('-'*50)\n",
        "print('Mean Absolute Error: ', mean_absolute_error(Y_test, Y_pred))\n",
        "print('Mean Squared Error: ',mean_squared_error(Y_test, Y_pred))\n",
        "print('Root Mean Squared Error: ',np.sqrt(mean_squared_error(Y_test, Y_pred)))\n",
        "print('-'*50)\n",
        "print(classification_report(Y_test, Y_pred))"
      ]
    },
    {
      "cell_type": "code",
      "execution_count": 37,
      "id": "wmLmryG7SZhE",
      "metadata": {
        "colab": {
          "base_uri": "https://localhost:8080/",
          "height": 54
        },
        "id": "wmLmryG7SZhE",
        "outputId": "154c5173-36cf-4960-f6b9-d831c850fac6"
      },
      "outputs": [
        {
          "data": {
            "image/png": "[encoded data removed]",
            "text/plain": [
              "<Figure size 720x504 with 2 Axes>"
            ]
          },
          "metadata": {
            "needs_background": "light"
          },
          "output_type": "display_data"
        }
      ],
      "source": [
        "confusionmatrix(rfc1)"
      ]
    },
    {
      "cell_type": "code",
      "execution_count": 38,
      "id": "tRpZBxpuk5D6",
      "metadata": {
        "id": "tRpZBxpuk5D6"
      },
      "outputs": [],
      "source": [
        "fpr1, tpr1, thresholds1 = roc_curve(Y_test, Y_pred)\n",
        "roc_auc1 = roc_auc_score(Y_test, Y_pred)"
      ]
    },
    {
      "cell_type": "markdown",
      "id": "V0gAG_DYGcFK",
      "metadata": {
        "id": "V0gAG_DYGcFK"
      },
      "source": [
        "#### Using `Entropy` hyperparameter"
      ]
    },
    {
      "cell_type": "code",
      "execution_count": 39,
      "id": "BwwtZQp1Ghcl",
      "metadata": {
        "colab": {
          "base_uri": "https://localhost:8080/"
        },
        "id": "BwwtZQp1Ghcl",
        "outputId": "f16072f8-2419-42a3-fda3-d6da36629683"
      },
      "outputs": [
        {
          "name": "stdout",
          "output_type": "stream",
          "text": [
            "Training data accuracy:  97.52066115702479\n",
            "Testing data accuracy:  90.1639344262295\n",
            "--------------------------------------------------\n",
            "Mean Absolute Error:  0.09836065573770492\n",
            "Mean Squared Error:  0.09836065573770492\n",
            "Root Mean Squared Error:  0.31362502409359\n",
            "--------------------------------------------------\n",
            "              precision    recall  f1-score   support\n",
            "\n",
            "           0       0.92      0.86      0.89        28\n",
            "           1       0.89      0.94      0.91        33\n",
            "\n",
            "    accuracy                           0.90        61\n",
            "   macro avg       0.90      0.90      0.90        61\n",
            "weighted avg       0.90      0.90      0.90        61\n",
            "\n"
          ]
        }
      ],
      "source": [
        "rfc2 = RandomForestClassifier(n_estimators=10, criterion='entropy', random_state=100, max_depth=8)\n",
        "rfc2.fit(X_train, Y_train)\n",
        "Y_pred = rfc2.predict(X_test)\n",
        "rfc_train_acc = rfc2.score(X_train, Y_train)*100\n",
        "rfc_test_acc = rfc2.score(X_test, Y_test)*100\n",
        "f1_score2 = f1_score(Y_test, Y_pred, average='binary')*100\n",
        "\n",
        "print('Training data accuracy: ', rfc_train_acc)\n",
        "print('Testing data accuracy: ', rfc_test_acc)\n",
        "print('-'*50)\n",
        "print('Mean Absolute Error: ', mean_absolute_error(Y_test, Y_pred))\n",
        "print('Mean Squared Error: ',mean_squared_error(Y_test, Y_pred))\n",
        "print('Root Mean Squared Error: ',np.sqrt(mean_squared_error(Y_test, Y_pred)))\n",
        "print('-'*50)\n",
        "print(classification_report(Y_test, Y_pred))"
      ]
    },
    {
      "cell_type": "code",
      "execution_count": 40,
      "id": "2A_UtbtuSbNf",
      "metadata": {
        "colab": {
          "base_uri": "https://localhost:8080/",
          "height": 54
        },
        "id": "2A_UtbtuSbNf",
        "outputId": "99005b3b-7173-43ab-9637-40f284ea0c43"
      },
      "outputs": [
        {
          "data": {
            "image/png": "[encoded data removed]",
            "text/plain": [
              "<Figure size 720x504 with 2 Axes>"
            ]
          },
          "metadata": {
            "needs_background": "light"
          },
          "output_type": "display_data"
        }
      ],
      "source": [
        "confusionmatrix(rfc2)"
      ]
    },
    {
      "cell_type": "code",
      "execution_count": 41,
      "id": "LMCHJ9K4lFCe",
      "metadata": {
        "id": "LMCHJ9K4lFCe"
      },
      "outputs": [],
      "source": [
        "fpr2, tpr2, thresholds1 = roc_curve(Y_test, Y_pred)\n",
        "roc_auc2 = roc_auc_score(Y_test, Y_pred)"
      ]
    },
    {
      "cell_type": "markdown",
      "id": "ks83hBKhGovV",
      "metadata": {
        "id": "ks83hBKhGovV"
      },
      "source": [
        "#### ROC Curve Comparison"
      ]
    },
    {
      "cell_type": "code",
      "execution_count": 42,
      "id": "sTdS2IXnlnk3",
      "metadata": {
        "colab": {
          "base_uri": "https://localhost:8080/",
          "height": 211
        },
        "id": "sTdS2IXnlnk3",
        "outputId": "cac6a154-ee14-449c-a533-e1d708aaf528"
      },
      "outputs": [
        {
          "data": {
            "text/html": [
              "\n",
              "  <div id=\"df-8fd48583-3a99-46bd-9aca-3ba23e118d13\">\n",
              "    <div class=\"colab-df-container\">\n",
              "      <div>\n",
              "<style scoped>\n",
              "    .dataframe tbody tr th:only-of-type {\n",
              "        vertical-align: middle;\n",
              "    }\n",
              "\n",
              "    .dataframe tbody tr th {\n",
              "        vertical-align: top;\n",
              "    }\n",
              "\n",
              "    .dataframe thead th {\n",
              "        text-align: right;\n",
              "    }\n",
              "</style>\n",
              "<table border=\"1\" class=\"dataframe\">\n",
              "  <thead>\n",
              "    <tr style=\"text-align: right;\">\n",
              "      <th></th>\n",
              "      <th>Random Forest Classifier</th>\n",
              "      <th>ROC Score</th>\n",
              "    </tr>\n",
              "  </thead>\n",
              "  <tbody>\n",
              "    <tr>\n",
              "      <th>0</th>\n",
              "      <td>Gini</td>\n",
              "      <td>0.811688</td>\n",
              "    </tr>\n",
              "    <tr>\n",
              "      <th>1</th>\n",
              "      <td>Entropy</td>\n",
              "      <td>0.898268</td>\n",
              "    </tr>\n",
              "  </tbody>\n",
              "</table>\n",
              "</div>\n",
              "      <button class=\"colab-df-convert\" onclick=\"convertToInteractive('df-8fd48583-3a99-46bd-9aca-3ba23e118d13')\"\n",
              "              title=\"Convert this dataframe to an interactive table.\"\n",
              "              style=\"display:none;\">\n",
              "        \n",
              "  <svg xmlns=\"http://www.w3.org/2000/svg\" height=\"24px\"viewBox=\"0 0 24 24\"\n",
              "       width=\"24px\">\n",
              "    <path d=\"M0 0h24v24H0V0z\" fill=\"none\"/>\n",
              "    <path d=\"M18.56 5.44l.94 2.06.94-2.06 2.06-.94-2.06-.94-.94-2.06-.94 2.06-2.06.94zm-11 1L8.5 8.5l.94-2.06 2.06-.94-2.06-.94L8.5 2.5l-.94 2.06-2.06.94zm10 10l.94 2.06.94-2.06 2.06-.94-2.06-.94-.94-2.06-.94 2.06-2.06.94z\"/><path d=\"M17.41 7.96l-1.37-1.37c-.4-.4-.92-.59-1.43-.59-.52 0-1.04.2-1.43.59L10.3 9.45l-7.72 7.72c-.78.78-.78 2.05 0 2.83L4 21.41c.39.39.9.59 1.41.59.51 0 1.02-.2 1.41-.59l7.78-7.78 2.81-2.81c.8-.78.8-2.07 0-2.86zM5.41 20L4 18.59l7.72-7.72 1.47 1.35L5.41 20z\"/>\n",
              "  </svg>\n",
              "      </button>\n",
              "      \n",
              "  <style>\n",
              "    .colab-df-container {\n",
              "      display:flex;\n",
              "      flex-wrap:wrap;\n",
              "      gap: 12px;\n",
              "    }\n",
              "\n",
              "    .colab-df-convert {\n",
              "      background-color: #E8F0FE;\n",
              "      border: none;\n",
              "      border-radius: 50%;\n",
              "      cursor: pointer;\n",
              "      display: none;\n",
              "      fill: #1967D2;\n",
              "      height: 32px;\n",
              "      padding: 0 0 0 0;\n",
              "      width: 32px;\n",
              "    }\n",
              "\n",
              "    .colab-df-convert:hover {\n",
              "      background-color: #E2EBFA;\n",
              "      box-shadow: 0px 1px 2px rgba(60, 64, 67, 0.3), 0px 1px 3px 1px rgba(60, 64, 67, 0.15);\n",
              "      fill: #174EA6;\n",
              "    }\n",
              "\n",
              "    [theme=dark] .colab-df-convert {\n",
              "      background-color: #3B4455;\n",
              "      fill: #D2E3FC;\n",
              "    }\n",
              "\n",
              "    [theme=dark] .colab-df-convert:hover {\n",
              "      background-color: #434B5C;\n",
              "      box-shadow: 0px 1px 3px 1px rgba(0, 0, 0, 0.15);\n",
              "      filter: drop-shadow(0px 1px 2px rgba(0, 0, 0, 0.3));\n",
              "      fill: #FFFFFF;\n",
              "    }\n",
              "  </style>\n",
              "\n",
              "      <script>\n",
              "        const buttonEl =\n",
              "          document.querySelector('#df-8fd48583-3a99-46bd-9aca-3ba23e118d13 button.colab-df-convert');\n",
              "        buttonEl.style.display =\n",
              "          google.colab.kernel.accessAllowed ? 'block' : 'none';\n",
              "\n",
              "        async function convertToInteractive(key) {\n",
              "          const element = document.querySelector('#df-8fd48583-3a99-46bd-9aca-3ba23e118d13');\n",
              "          const dataTable =\n",
              "            await google.colab.kernel.invokeFunction('convertToInteractive',\n",
              "                                                     [key], {});\n",
              "          if (!dataTable) return;\n",
              "\n",
              "          const docLinkHtml = 'Like what you see? Visit the ' +\n",
              "            '<a target=\"_blank\" href=https://colab.research.google.com/notebooks/data_table.ipynb>data table notebook</a>'\n",
              "            + ' to learn more about interactive tables.';\n",
              "          element.innerHTML = '';\n",
              "          dataTable['output_type'] = 'display_data';\n",
              "          await google.colab.output.renderOutput(dataTable, element);\n",
              "          const docLink = document.createElement('div');\n",
              "          docLink.innerHTML = docLinkHtml;\n",
              "          element.appendChild(docLink);\n",
              "        }\n",
              "      </script>\n",
              "    </div>\n",
              "  </div>\n",
              "  "
            ],
            "text/plain": [
              "  Random Forest Classifier  ROC Score\n",
              "0                     Gini   0.811688\n",
              "1                  Entropy   0.898268"
            ]
          },
          "execution_count": 42,
          "metadata": {},
          "output_type": "execute_result"
        }
      ],
      "source": [
        "roc_score_comparison = pd.DataFrame({'Random Forest Classifier': ['Gini', 'Entropy'], 'ROC Score': [roc_auc1, roc_auc2]})\n",
        "roc_score_comparison"
      ]
    },
    {
      "cell_type": "code",
      "execution_count": 43,
      "id": "2PHl09AkGqdH",
      "metadata": {
        "colab": {
          "base_uri": "https://localhost:8080/",
          "height": 106
        },
        "id": "2PHl09AkGqdH",
        "outputId": "5cdf00f3-9ab6-4076-d0f4-185a0157c3d0"
      },
      "outputs": [
        {
          "data": {
            "text/plain": [
              "<matplotlib.legend.Legend at 0x7f83ba5f5610>"
            ]
          },
          "execution_count": 43,
          "metadata": {},
          "output_type": "execute_result"
        },
        {
          "data": {
            "image/png": "[encoded data removed]",
            "text/plain": [
              "<Figure size 432x288 with 1 Axes>"
            ]
          },
          "metadata": {
            "needs_background": "light"
          },
          "output_type": "display_data"
        }
      ],
      "source": [
        "plt.plot(fpr1, tpr1, label='Model 1 (area = %0.3f)' % roc_auc1, color=\"orange\")\n",
        "plt.plot(fpr2, tpr2, label='Model 2 (area = %0.3f)' % roc_auc2, color=\"green\")\n",
        "plt.plot([0, 1], [0, 1], 'k--')  # random predictions curve\n",
        "plt.xlim([0.0, 1.0])\n",
        "plt.ylim([0.0, 1.0])\n",
        "plt.xlabel('False Positive Rate or (1 - Specifity)')\n",
        "plt.ylabel('True Positive Rate or (Sensitivity)')\n",
        "plt.title('Regression Models')\n",
        "plt.legend(loc=\"lower right\")"
      ]
    },
    {
      "cell_type": "markdown",
      "id": "M3DSnv90G4UA",
      "metadata": {
        "id": "M3DSnv90G4UA"
      },
      "source": [
        "#### F1 Score Comparison"
      ]
    },
    {
      "cell_type": "code",
      "execution_count": 44,
      "id": "hQPcF812G_5o",
      "metadata": {
        "colab": {
          "base_uri": "https://localhost:8080/",
          "height": 211
        },
        "id": "hQPcF812G_5o",
        "outputId": "e3fffc4b-0cb1-438e-bd04-280f50196a01"
      },
      "outputs": [
        {
          "data": {
            "text/html": [
              "\n",
              "  <div id=\"df-98ab8694-75da-4d3c-8aa2-187fda695f99\">\n",
              "    <div class=\"colab-df-container\">\n",
              "      <div>\n",
              "<style scoped>\n",
              "    .dataframe tbody tr th:only-of-type {\n",
              "        vertical-align: middle;\n",
              "    }\n",
              "\n",
              "    .dataframe tbody tr th {\n",
              "        vertical-align: top;\n",
              "    }\n",
              "\n",
              "    .dataframe thead th {\n",
              "        text-align: right;\n",
              "    }\n",
              "</style>\n",
              "<table border=\"1\" class=\"dataframe\">\n",
              "  <thead>\n",
              "    <tr style=\"text-align: right;\">\n",
              "      <th></th>\n",
              "      <th>Random Forest Classifier</th>\n",
              "      <th>F1 Score</th>\n",
              "    </tr>\n",
              "  </thead>\n",
              "  <tbody>\n",
              "    <tr>\n",
              "      <th>0</th>\n",
              "      <td>Gini</td>\n",
              "      <td>84.507042</td>\n",
              "    </tr>\n",
              "    <tr>\n",
              "      <th>1</th>\n",
              "      <td>Entropy</td>\n",
              "      <td>91.176471</td>\n",
              "    </tr>\n",
              "  </tbody>\n",
              "</table>\n",
              "</div>\n",
              "      <button class=\"colab-df-convert\" onclick=\"convertToInteractive('df-98ab8694-75da-4d3c-8aa2-187fda695f99')\"\n",
              "              title=\"Convert this dataframe to an interactive table.\"\n",
              "              style=\"display:none;\">\n",
              "        \n",
              "  <svg xmlns=\"http://www.w3.org/2000/svg\" height=\"24px\"viewBox=\"0 0 24 24\"\n",
              "       width=\"24px\">\n",
              "    <path d=\"M0 0h24v24H0V0z\" fill=\"none\"/>\n",
              "    <path d=\"M18.56 5.44l.94 2.06.94-2.06 2.06-.94-2.06-.94-.94-2.06-.94 2.06-2.06.94zm-11 1L8.5 8.5l.94-2.06 2.06-.94-2.06-.94L8.5 2.5l-.94 2.06-2.06.94zm10 10l.94 2.06.94-2.06 2.06-.94-2.06-.94-.94-2.06-.94 2.06-2.06.94z\"/><path d=\"M17.41 7.96l-1.37-1.37c-.4-.4-.92-.59-1.43-.59-.52 0-1.04.2-1.43.59L10.3 9.45l-7.72 7.72c-.78.78-.78 2.05 0 2.83L4 21.41c.39.39.9.59 1.41.59.51 0 1.02-.2 1.41-.59l7.78-7.78 2.81-2.81c.8-.78.8-2.07 0-2.86zM5.41 20L4 18.59l7.72-7.72 1.47 1.35L5.41 20z\"/>\n",
              "  </svg>\n",
              "      </button>\n",
              "      \n",
              "  <style>\n",
              "    .colab-df-container {\n",
              "      display:flex;\n",
              "      flex-wrap:wrap;\n",
              "      gap: 12px;\n",
              "    }\n",
              "\n",
              "    .colab-df-convert {\n",
              "      background-color: #E8F0FE;\n",
              "      border: none;\n",
              "      border-radius: 50%;\n",
              "      cursor: pointer;\n",
              "      display: none;\n",
              "      fill: #1967D2;\n",
              "      height: 32px;\n",
              "      padding: 0 0 0 0;\n",
              "      width: 32px;\n",
              "    }\n",
              "\n",
              "    .colab-df-convert:hover {\n",
              "      background-color: #E2EBFA;\n",
              "      box-shadow: 0px 1px 2px rgba(60, 64, 67, 0.3), 0px 1px 3px 1px rgba(60, 64, 67, 0.15);\n",
              "      fill: #174EA6;\n",
              "    }\n",
              "\n",
              "    [theme=dark] .colab-df-convert {\n",
              "      background-color: #3B4455;\n",
              "      fill: #D2E3FC;\n",
              "    }\n",
              "\n",
              "    [theme=dark] .colab-df-convert:hover {\n",
              "      background-color: #434B5C;\n",
              "      box-shadow: 0px 1px 3px 1px rgba(0, 0, 0, 0.15);\n",
              "      filter: drop-shadow(0px 1px 2px rgba(0, 0, 0, 0.3));\n",
              "      fill: #FFFFFF;\n",
              "    }\n",
              "  </style>\n",
              "\n",
              "      <script>\n",
              "        const buttonEl =\n",
              "          document.querySelector('#df-98ab8694-75da-4d3c-8aa2-187fda695f99 button.colab-df-convert');\n",
              "        buttonEl.style.display =\n",
              "          google.colab.kernel.accessAllowed ? 'block' : 'none';\n",
              "\n",
              "        async function convertToInteractive(key) {\n",
              "          const element = document.querySelector('#df-98ab8694-75da-4d3c-8aa2-187fda695f99');\n",
              "          const dataTable =\n",
              "            await google.colab.kernel.invokeFunction('convertToInteractive',\n",
              "                                                     [key], {});\n",
              "          if (!dataTable) return;\n",
              "\n",
              "          const docLinkHtml = 'Like what you see? Visit the ' +\n",
              "            '<a target=\"_blank\" href=https://colab.research.google.com/notebooks/data_table.ipynb>data table notebook</a>'\n",
              "            + ' to learn more about interactive tables.';\n",
              "          element.innerHTML = '';\n",
              "          dataTable['output_type'] = 'display_data';\n",
              "          await google.colab.output.renderOutput(dataTable, element);\n",
              "          const docLink = document.createElement('div');\n",
              "          docLink.innerHTML = docLinkHtml;\n",
              "          element.appendChild(docLink);\n",
              "        }\n",
              "      </script>\n",
              "    </div>\n",
              "  </div>\n",
              "  "
            ],
            "text/plain": [
              "  Random Forest Classifier   F1 Score\n",
              "0                     Gini  84.507042\n",
              "1                  Entropy  91.176471"
            ]
          },
          "execution_count": 44,
          "metadata": {},
          "output_type": "execute_result"
        }
      ],
      "source": [
        "models = pd.DataFrame({'Random Forest Classifier': ['Gini', 'Entropy'], 'F1 Score': [f1_score1, f1_score2]})\n",
        "models"
      ]
    },
    {
      "cell_type": "code",
      "execution_count": 45,
      "id": "6JRbh7GlHMUI",
      "metadata": {
        "colab": {
          "base_uri": "https://localhost:8080/",
          "height": 106
        },
        "id": "6JRbh7GlHMUI",
        "outputId": "81ac4424-aa90-419d-a952-95a4d619cd38"
      },
      "outputs": [
        {
          "data": {
            "text/plain": [
              "<matplotlib.axes._subplots.AxesSubplot at 0x7f83ba392790>"
            ]
          },
          "execution_count": 45,
          "metadata": {},
          "output_type": "execute_result"
        },
        {
          "data": {
            "image/png": "[encoded data removed]",
            "text/plain": [
              "<Figure size 576x360 with 1 Axes>"
            ]
          },
          "metadata": {
            "needs_background": "light"
          },
          "output_type": "display_data"
        }
      ],
      "source": [
        "plt.figure(figsize=(8,5))\n",
        "plt.title('Comparison of F1 Scores between 2 different models')\n",
        "sn.barplot(x='Random Forest Classifier', y='F1 Score', data=models, palette='viridis')"
      ]
    },
    {
      "cell_type": "markdown",
      "id": "l0-scCrZHzwG",
      "metadata": {
        "id": "l0-scCrZHzwG"
      },
      "source": [
        "#### Conclusion\n",
        "\n",
        "From the above analysis we can determine that the Random Forest Classifier Model which uses `Entropy` is the better model.\n",
        "\n",
        "So we will use the second model for comparing with other models."
      ]
    },
    {
      "cell_type": "code",
      "execution_count": 46,
      "id": "-8FFwlsrZNvc",
      "metadata": {
        "id": "-8FFwlsrZNvc"
      },
      "outputs": [],
      "source": [
        "rfc_f1_score = f1_score2\n",
        "rfc_roc_score = roc_auc2"
      ]
    },
    {
      "cell_type": "markdown",
      "id": "KiwF2s9ZBBCj",
      "metadata": {
        "id": "KiwF2s9ZBBCj"
      },
      "source": [
        "### K-Nearest Neighbour"
      ]
    },
    {
      "cell_type": "code",
      "execution_count": 47,
      "id": "Sw1gMABGBM9l",
      "metadata": {
        "colab": {
          "base_uri": "https://localhost:8080/"
        },
        "id": "Sw1gMABGBM9l",
        "outputId": "29416a81-ab49-4b2c-c048-8bf29365d3bf"
      },
      "outputs": [
        {
          "name": "stdout",
          "output_type": "stream",
          "text": [
            "Training data accuracy:  88.42975206611571\n",
            "Testing data accuracy:  88.52459016393442\n",
            "--------------------------------------------------\n",
            "Mean Absolute Error:  0.11475409836065574\n",
            "Mean Squared Error:  0.11475409836065574\n",
            "Root Mean Squared Error:  0.3387537429470791\n",
            "--------------------------------------------------\n",
            "              precision    recall  f1-score   support\n",
            "\n",
            "           0       0.92      0.82      0.87        28\n",
            "           1       0.86      0.94      0.90        33\n",
            "\n",
            "    accuracy                           0.89        61\n",
            "   macro avg       0.89      0.88      0.88        61\n",
            "weighted avg       0.89      0.89      0.88        61\n",
            "\n"
          ]
        }
      ],
      "source": [
        "knn = KNeighborsClassifier()\n",
        "knn.fit(X_train, Y_train)\n",
        "Y_pred = knn.predict(X_test)\n",
        "knn_train_acc = knn.score(X_train, Y_train)*100\n",
        "knn_test_acc = knn.score(X_test, Y_test)*100\n",
        "f1_score = f1_score(Y_test, Y_pred, average='binary')*100\n",
        "\n",
        "print('Training data accuracy: ', knn_train_acc)\n",
        "print('Testing data accuracy: ', knn_test_acc)\n",
        "print('-'*50)\n",
        "print('Mean Absolute Error: ', mean_absolute_error(Y_test, Y_pred))\n",
        "print('Mean Squared Error: ',mean_squared_error(Y_test, Y_pred))\n",
        "print('Root Mean Squared Error: ',np.sqrt(mean_squared_error(Y_test, Y_pred)))\n",
        "print('-'*50)\n",
        "print(classification_report(Y_test, Y_pred))"
      ]
    },
    {
      "cell_type": "code",
      "execution_count": 48,
      "id": "RcU-vPKeSeQN",
      "metadata": {
        "colab": {
          "base_uri": "https://localhost:8080/",
          "height": 54
        },
        "id": "RcU-vPKeSeQN",
        "outputId": "369b5b72-520b-4d6f-af2a-fc9fdc29fdf9"
      },
      "outputs": [
        {
          "data": {
            "image/png": "[encoded data removed]",
            "text/plain": [
              "<Figure size 720x504 with 2 Axes>"
            ]
          },
          "metadata": {
            "needs_background": "light"
          },
          "output_type": "display_data"
        }
      ],
      "source": [
        "confusionmatrix(knn)"
      ]
    },
    {
      "cell_type": "markdown",
      "id": "GTvtMBMzCBaa",
      "metadata": {
        "id": "GTvtMBMzCBaa"
      },
      "source": [
        "##### ROC Curve"
      ]
    },
    {
      "cell_type": "code",
      "execution_count": 49,
      "id": "66UOgewDCDkJ",
      "metadata": {
        "colab": {
          "base_uri": "https://localhost:8080/",
          "height": 106
        },
        "id": "66UOgewDCDkJ",
        "outputId": "10435e25-b476-413f-ac40-2de0127dad65"
      },
      "outputs": [
        {
          "data": {
            "text/plain": [
              "<matplotlib.legend.Legend at 0x7f83c3157a50>"
            ]
          },
          "execution_count": 49,
          "metadata": {},
          "output_type": "execute_result"
        },
        {
          "data": {
            "image/png": "[encoded data removed]",
            "text/plain": [
              "<Figure size 432x288 with 1 Axes>"
            ]
          },
          "metadata": {
            "needs_background": "light"
          },
          "output_type": "display_data"
        }
      ],
      "source": [
        "fpr, tpr, thresholds = roc_curve(Y_test, Y_pred)\n",
        "roc_auc = roc_auc_score(Y_test, Y_pred)\n",
        "\n",
        "# Plot ROC curve\n",
        "plt.plot(fpr, tpr, label='ROC curve (area = %0.3f)' % roc_auc)\n",
        "plt.plot([0, 1], [0, 1], 'k--')  # random predictions curve\n",
        "plt.xlim([0.0, 1.0])\n",
        "plt.ylim([0.0, 1.0])\n",
        "plt.xlabel('False Positive Rate or (1 - Specifity)')\n",
        "plt.ylabel('True Positive Rate or (Sensitivity)')\n",
        "plt.title('Heart Disease Prediction')\n",
        "plt.legend(loc=\"lower right\")"
      ]
    },
    {
      "cell_type": "code",
      "execution_count": 50,
      "id": "mI8gUSCud_fm",
      "metadata": {
        "id": "mI8gUSCud_fm"
      },
      "outputs": [],
      "source": [
        "knn_f1_score = f1_score\n",
        "knn_roc_score = roc_auc"
      ]
    },
    {
      "cell_type": "markdown",
      "id": "acG9gMSmDBDg",
      "metadata": {
        "id": "acG9gMSmDBDg"
      },
      "source": [
        "## Comparative Analysis\n",
        "\n",
        "We will be comparing between the three models (Logistic Regression, Random Forest Classifier & KNN Classifier) and select the best one for predictions."
      ]
    },
    {
      "cell_type": "markdown",
      "id": "8QFxFI8KeRB8",
      "metadata": {
        "id": "8QFxFI8KeRB8"
      },
      "source": [
        "### F1 Score comparison"
      ]
    },
    {
      "cell_type": "code",
      "execution_count": 51,
      "id": "cktrseOZd9Dm",
      "metadata": {
        "colab": {
          "base_uri": "https://localhost:8080/",
          "height": 308
        },
        "id": "cktrseOZd9Dm",
        "outputId": "701edf70-4091-47e2-b9be-d7d9726d3a95"
      },
      "outputs": [
        {
          "data": {
            "text/html": [
              "\n",
              "  <div id=\"df-4b114552-7230-4ba9-abf1-9351fac4c83c\">\n",
              "    <div class=\"colab-df-container\">\n",
              "      <div>\n",
              "<style scoped>\n",
              "    .dataframe tbody tr th:only-of-type {\n",
              "        vertical-align: middle;\n",
              "    }\n",
              "\n",
              "    .dataframe tbody tr th {\n",
              "        vertical-align: top;\n",
              "    }\n",
              "\n",
              "    .dataframe thead th {\n",
              "        text-align: right;\n",
              "    }\n",
              "</style>\n",
              "<table border=\"1\" class=\"dataframe\">\n",
              "  <thead>\n",
              "    <tr style=\"text-align: right;\">\n",
              "      <th></th>\n",
              "      <th>F1 Score</th>\n",
              "    </tr>\n",
              "    <tr>\n",
              "      <th>Model</th>\n",
              "      <th></th>\n",
              "    </tr>\n",
              "  </thead>\n",
              "  <tbody>\n",
              "    <tr>\n",
              "      <th>Logistic Regression</th>\n",
              "      <td>92.753623</td>\n",
              "    </tr>\n",
              "    <tr>\n",
              "      <th>Random Forest Classifier</th>\n",
              "      <td>91.176471</td>\n",
              "    </tr>\n",
              "    <tr>\n",
              "      <th>KNearest Neighbour</th>\n",
              "      <td>89.855072</td>\n",
              "    </tr>\n",
              "  </tbody>\n",
              "</table>\n",
              "</div>\n",
              "      <button class=\"colab-df-convert\" onclick=\"convertToInteractive('df-4b114552-7230-4ba9-abf1-9351fac4c83c')\"\n",
              "              title=\"Convert this dataframe to an interactive table.\"\n",
              "              style=\"display:none;\">\n",
              "        \n",
              "  <svg xmlns=\"http://www.w3.org/2000/svg\" height=\"24px\"viewBox=\"0 0 24 24\"\n",
              "       width=\"24px\">\n",
              "    <path d=\"M0 0h24v24H0V0z\" fill=\"none\"/>\n",
              "    <path d=\"M18.56 5.44l.94 2.06.94-2.06 2.06-.94-2.06-.94-.94-2.06-.94 2.06-2.06.94zm-11 1L8.5 8.5l.94-2.06 2.06-.94-2.06-.94L8.5 2.5l-.94 2.06-2.06.94zm10 10l.94 2.06.94-2.06 2.06-.94-2.06-.94-.94-2.06-.94 2.06-2.06.94z\"/><path d=\"M17.41 7.96l-1.37-1.37c-.4-.4-.92-.59-1.43-.59-.52 0-1.04.2-1.43.59L10.3 9.45l-7.72 7.72c-.78.78-.78 2.05 0 2.83L4 21.41c.39.39.9.59 1.41.59.51 0 1.02-.2 1.41-.59l7.78-7.78 2.81-2.81c.8-.78.8-2.07 0-2.86zM5.41 20L4 18.59l7.72-7.72 1.47 1.35L5.41 20z\"/>\n",
              "  </svg>\n",
              "      </button>\n",
              "      \n",
              "  <style>\n",
              "    .colab-df-container {\n",
              "      display:flex;\n",
              "      flex-wrap:wrap;\n",
              "      gap: 12px;\n",
              "    }\n",
              "\n",
              "    .colab-df-convert {\n",
              "      background-color: #E8F0FE;\n",
              "      border: none;\n",
              "      border-radius: 50%;\n",
              "      cursor: pointer;\n",
              "      display: none;\n",
              "      fill: #1967D2;\n",
              "      height: 32px;\n",
              "      padding: 0 0 0 0;\n",
              "      width: 32px;\n",
              "    }\n",
              "\n",
              "    .colab-df-convert:hover {\n",
              "      background-color: #E2EBFA;\n",
              "      box-shadow: 0px 1px 2px rgba(60, 64, 67, 0.3), 0px 1px 3px 1px rgba(60, 64, 67, 0.15);\n",
              "      fill: #174EA6;\n",
              "    }\n",
              "\n",
              "    [theme=dark] .colab-df-convert {\n",
              "      background-color: #3B4455;\n",
              "      fill: #D2E3FC;\n",
              "    }\n",
              "\n",
              "    [theme=dark] .colab-df-convert:hover {\n",
              "      background-color: #434B5C;\n",
              "      box-shadow: 0px 1px 3px 1px rgba(0, 0, 0, 0.15);\n",
              "      filter: drop-shadow(0px 1px 2px rgba(0, 0, 0, 0.3));\n",
              "      fill: #FFFFFF;\n",
              "    }\n",
              "  </style>\n",
              "\n",
              "      <script>\n",
              "        const buttonEl =\n",
              "          document.querySelector('#df-4b114552-7230-4ba9-abf1-9351fac4c83c button.colab-df-convert');\n",
              "        buttonEl.style.display =\n",
              "          google.colab.kernel.accessAllowed ? 'block' : 'none';\n",
              "\n",
              "        async function convertToInteractive(key) {\n",
              "          const element = document.querySelector('#df-4b114552-7230-4ba9-abf1-9351fac4c83c');\n",
              "          const dataTable =\n",
              "            await google.colab.kernel.invokeFunction('convertToInteractive',\n",
              "                                                     [key], {});\n",
              "          if (!dataTable) return;\n",
              "\n",
              "          const docLinkHtml = 'Like what you see? Visit the ' +\n",
              "            '<a target=\"_blank\" href=https://colab.research.google.com/notebooks/data_table.ipynb>data table notebook</a>'\n",
              "            + ' to learn more about interactive tables.';\n",
              "          element.innerHTML = '';\n",
              "          dataTable['output_type'] = 'display_data';\n",
              "          await google.colab.output.renderOutput(dataTable, element);\n",
              "          const docLink = document.createElement('div');\n",
              "          docLink.innerHTML = docLinkHtml;\n",
              "          element.appendChild(docLink);\n",
              "        }\n",
              "      </script>\n",
              "    </div>\n",
              "  </div>\n",
              "  "
            ],
            "text/plain": [
              "                           F1 Score\n",
              "Model                              \n",
              "Logistic Regression       92.753623\n",
              "Random Forest Classifier  91.176471\n",
              "KNearest Neighbour        89.855072"
            ]
          },
          "execution_count": 51,
          "metadata": {},
          "output_type": "execute_result"
        }
      ],
      "source": [
        "f1_results=pd.DataFrame({'Model':['Logistic Regression','Random Forest Classifier','KNearest Neighbour'],\n",
        "                    'F1 Score':[lr_f1_score, rfc_f1_score, knn_f1_score]})\n",
        "f1_result_df=f1_results.sort_values(by='F1 Score', ascending=False)\n",
        "f1_result_df=f1_result_df.set_index('Model')\n",
        "f1_result_df"
      ]
    },
    {
      "cell_type": "code",
      "execution_count": 52,
      "id": "tBTKZNg_nK52",
      "metadata": {
        "colab": {
          "base_uri": "https://localhost:8080/",
          "height": 106
        },
        "id": "tBTKZNg_nK52",
        "outputId": "8d5435d4-21e9-4c42-cc91-0504f183b759"
      },
      "outputs": [
        {
          "data": {
            "text/plain": [
              "<matplotlib.axes._subplots.AxesSubplot at 0x7f83ba283350>"
            ]
          },
          "execution_count": 52,
          "metadata": {},
          "output_type": "execute_result"
        },
        {
          "data": {
            "image/png": "[encoded data removed]",
            "text/plain": [
              "<Figure size 576x360 with 1 Axes>"
            ]
          },
          "metadata": {
            "needs_background": "light"
          },
          "output_type": "display_data"
        }
      ],
      "source": [
        "plt.figure(figsize=(8,5))\n",
        "plt.title('Comparison of F1 Scores')\n",
        "sn.barplot(x='Model', y='F1 Score', data=f1_results, palette='viridis')"
      ]
    },
    {
      "cell_type": "markdown",
      "id": "1kIZRSAymQu8",
      "metadata": {
        "id": "1kIZRSAymQu8"
      },
      "source": [
        "### ROC Score Comparison"
      ]
    },
    {
      "cell_type": "code",
      "execution_count": 53,
      "id": "nm7RUCOBg0NG",
      "metadata": {
        "colab": {
          "base_uri": "https://localhost:8080/",
          "height": 326
        },
        "id": "nm7RUCOBg0NG",
        "outputId": "3aa9776c-77ca-499c-964f-658b69d90a3d"
      },
      "outputs": [
        {
          "data": {
            "text/html": [
              "\n",
              "  <div id=\"df-aa399f85-5066-4056-b20c-8c92fdf39aa5\">\n",
              "    <div class=\"colab-df-container\">\n",
              "      <div>\n",
              "<style scoped>\n",
              "    .dataframe tbody tr th:only-of-type {\n",
              "        vertical-align: middle;\n",
              "    }\n",
              "\n",
              "    .dataframe tbody tr th {\n",
              "        vertical-align: top;\n",
              "    }\n",
              "\n",
              "    .dataframe thead th {\n",
              "        text-align: right;\n",
              "    }\n",
              "</style>\n",
              "<table border=\"1\" class=\"dataframe\">\n",
              "  <thead>\n",
              "    <tr style=\"text-align: right;\">\n",
              "      <th></th>\n",
              "      <th>ROC Score</th>\n",
              "    </tr>\n",
              "    <tr>\n",
              "      <th>Model</th>\n",
              "      <th></th>\n",
              "    </tr>\n",
              "  </thead>\n",
              "  <tbody>\n",
              "    <tr>\n",
              "      <th>Logistic Regression</th>\n",
              "      <td>0.913420</td>\n",
              "    </tr>\n",
              "    <tr>\n",
              "      <th>Random Forest Classifier</th>\n",
              "      <td>0.898268</td>\n",
              "    </tr>\n",
              "    <tr>\n",
              "      <th>KNearest Neighbour</th>\n",
              "      <td>0.880411</td>\n",
              "    </tr>\n",
              "  </tbody>\n",
              "</table>\n",
              "</div>\n",
              "      <button class=\"colab-df-convert\" onclick=\"convertToInteractive('df-aa399f85-5066-4056-b20c-8c92fdf39aa5')\"\n",
              "              title=\"Convert this dataframe to an interactive table.\"\n",
              "              style=\"display:none;\">\n",
              "        \n",
              "  <svg xmlns=\"http://www.w3.org/2000/svg\" height=\"24px\"viewBox=\"0 0 24 24\"\n",
              "       width=\"24px\">\n",
              "    <path d=\"M0 0h24v24H0V0z\" fill=\"none\"/>\n",
              "    <path d=\"M18.56 5.44l.94 2.06.94-2.06 2.06-.94-2.06-.94-.94-2.06-.94 2.06-2.06.94zm-11 1L8.5 8.5l.94-2.06 2.06-.94-2.06-.94L8.5 2.5l-.94 2.06-2.06.94zm10 10l.94 2.06.94-2.06 2.06-.94-2.06-.94-.94-2.06-.94 2.06-2.06.94z\"/><path d=\"M17.41 7.96l-1.37-1.37c-.4-.4-.92-.59-1.43-.59-.52 0-1.04.2-1.43.59L10.3 9.45l-7.72 7.72c-.78.78-.78 2.05 0 2.83L4 21.41c.39.39.9.59 1.41.59.51 0 1.02-.2 1.41-.59l7.78-7.78 2.81-2.81c.8-.78.8-2.07 0-2.86zM5.41 20L4 18.59l7.72-7.72 1.47 1.35L5.41 20z\"/>\n",
              "  </svg>\n",
              "      </button>\n",
              "      \n",
              "  <style>\n",
              "    .colab-df-container {\n",
              "      display:flex;\n",
              "      flex-wrap:wrap;\n",
              "      gap: 12px;\n",
              "    }\n",
              "\n",
              "    .colab-df-convert {\n",
              "      background-color: #E8F0FE;\n",
              "      border: none;\n",
              "      border-radius: 50%;\n",
              "      cursor: pointer;\n",
              "      display: none;\n",
              "      fill: #1967D2;\n",
              "      height: 32px;\n",
              "      padding: 0 0 0 0;\n",
              "      width: 32px;\n",
              "    }\n",
              "\n",
              "    .colab-df-convert:hover {\n",
              "      background-color: #E2EBFA;\n",
              "      box-shadow: 0px 1px 2px rgba(60, 64, 67, 0.3), 0px 1px 3px 1px rgba(60, 64, 67, 0.15);\n",
              "      fill: #174EA6;\n",
              "    }\n",
              "\n",
              "    [theme=dark] .colab-df-convert {\n",
              "      background-color: #3B4455;\n",
              "      fill: #D2E3FC;\n",
              "    }\n",
              "\n",
              "    [theme=dark] .colab-df-convert:hover {\n",
              "      background-color: #434B5C;\n",
              "      box-shadow: 0px 1px 3px 1px rgba(0, 0, 0, 0.15);\n",
              "      filter: drop-shadow(0px 1px 2px rgba(0, 0, 0, 0.3));\n",
              "      fill: #FFFFFF;\n",
              "    }\n",
              "  </style>\n",
              "\n",
              "      <script>\n",
              "        const buttonEl =\n",
              "          document.querySelector('#df-aa399f85-5066-4056-b20c-8c92fdf39aa5 button.colab-df-convert');\n",
              "        buttonEl.style.display =\n",
              "          google.colab.kernel.accessAllowed ? 'block' : 'none';\n",
              "\n",
              "        async function convertToInteractive(key) {\n",
              "          const element = document.querySelector('#df-aa399f85-5066-4056-b20c-8c92fdf39aa5');\n",
              "          const dataTable =\n",
              "            await google.colab.kernel.invokeFunction('convertToInteractive',\n",
              "                                                     [key], {});\n",
              "          if (!dataTable) return;\n",
              "\n",
              "          const docLinkHtml = 'Like what you see? Visit the ' +\n",
              "            '<a target=\"_blank\" href=https://colab.research.google.com/notebooks/data_table.ipynb>data table notebook</a>'\n",
              "            + ' to learn more about interactive tables.';\n",
              "          element.innerHTML = '';\n",
              "          dataTable['output_type'] = 'display_data';\n",
              "          await google.colab.output.renderOutput(dataTable, element);\n",
              "          const docLink = document.createElement('div');\n",
              "          docLink.innerHTML = docLinkHtml;\n",
              "          element.appendChild(docLink);\n",
              "        }\n",
              "      </script>\n",
              "    </div>\n",
              "  </div>\n",
              "  "
            ],
            "text/plain": [
              "                          ROC Score\n",
              "Model                              \n",
              "Logistic Regression        0.913420\n",
              "Random Forest Classifier   0.898268\n",
              "KNearest Neighbour         0.880411"
            ]
          },
          "execution_count": 53,
          "metadata": {},
          "output_type": "execute_result"
        }
      ],
      "source": [
        "roc_results=pd.DataFrame({'Model':['Logistic Regression','Random Forest Classifier','KNearest Neighbour'],\n",
        "                    'ROC Score':[lr_roc_score, rfc_roc_score, knn_roc_score]})\n",
        "roc_result_df=roc_results.sort_values(by='ROC Score', ascending=False)\n",
        "roc_result_df=roc_result_df.set_index('Model')\n",
        "roc_result_df"
      ]
    },
    {
      "cell_type": "code",
      "execution_count": 54,
      "id": "HYBh0F9PobhL",
      "metadata": {
        "colab": {
          "base_uri": "https://localhost:8080/",
          "height": 106
        },
        "id": "HYBh0F9PobhL",
        "outputId": "ecc9d7ab-10a3-44e5-e752-8e220189615d"
      },
      "outputs": [
        {
          "data": {
            "text/plain": [
              "<matplotlib.axes._subplots.AxesSubplot at 0x7f83ba46aa90>"
            ]
          },
          "execution_count": 54,
          "metadata": {},
          "output_type": "execute_result"
        },
        {
          "data": {
            "image/png": "[encoded data removed]",
            "text/plain": [
              "<Figure size 576x360 with 1 Axes>"
            ]
          },
          "metadata": {
            "needs_background": "light"
          },
          "output_type": "display_data"
        }
      ],
      "source": [
        "plt.figure(figsize=(8,5))\n",
        "plt.title('Comparison of ROC Scores')\n",
        "sn.barplot(x='Model', y='ROC Score', data=roc_results, palette='viridis')"
      ]
    },
    {
      "cell_type": "markdown",
      "id": "ErqlN_7lmvZz",
      "metadata": {
        "id": "ErqlN_7lmvZz"
      },
      "source": [
        "### Conclusion\n",
        "\n",
        "From the above Comparative Analysis we can determine that Logistic Regression is the best model of the three and we will be using it for our future predictions."
      ]
    },
    {
      "cell_type": "code",
      "execution_count": 55,
      "id": "6bEfaUfNnBIx",
      "metadata": {
        "id": "6bEfaUfNnBIx"
      },
      "outputs": [],
      "source": [
        "import pickle\n",
        "pickle.dump(lr2, open('model.pkl', 'wb'))"
      ]
    },
    {
      "cell_type": "markdown",
      "id": "iSTshCZRrPKt",
      "metadata": {
        "id": "iSTshCZRrPKt"
      },
      "source": [
        "#### Creating a dataframe with only dummy variables"
      ]
    },
    {
      "cell_type": "code",
      "execution_count": 56,
      "id": "nwl57TZ_rmX5",
      "metadata": {
        "colab": {
          "base_uri": "https://localhost:8080/"
        },
        "id": "nwl57TZ_rmX5",
        "outputId": "1a023942-3e77-4125-b046-8279b86198c7"
      },
      "outputs": [
        {
          "name": "stdout",
          "output_type": "stream",
          "text": [
            "<class 'pandas.core.frame.DataFrame'>\n",
            "RangeIndex: 303 entries, 0 to 302\n",
            "Data columns (total 28 columns):\n",
            " #   Column     Non-Null Count  Dtype  \n",
            "---  ------     --------------  -----  \n",
            " 0   age        303 non-null    int64  \n",
            " 1   sex        303 non-null    int64  \n",
            " 2   trestbps   303 non-null    int64  \n",
            " 3   chol       303 non-null    int64  \n",
            " 4   fbs        303 non-null    int64  \n",
            " 5   thalach    303 non-null    int64  \n",
            " 6   exang      303 non-null    int64  \n",
            " 7   oldpeak    303 non-null    float64\n",
            " 8   target     303 non-null    int64  \n",
            " 9   cp_0       303 non-null    uint8  \n",
            " 10  cp_1       303 non-null    uint8  \n",
            " 11  cp_2       303 non-null    uint8  \n",
            " 12  cp_3       303 non-null    uint8  \n",
            " 13  restecg_0  303 non-null    uint8  \n",
            " 14  restecg_1  303 non-null    uint8  \n",
            " 15  restecg_2  303 non-null    uint8  \n",
            " 16  slope_0    303 non-null    uint8  \n",
            " 17  slope_1    303 non-null    uint8  \n",
            " 18  slope_2    303 non-null    uint8  \n",
            " 19  ca_0       303 non-null    uint8  \n",
            " 20  ca_1       303 non-null    uint8  \n",
            " 21  ca_2       303 non-null    uint8  \n",
            " 22  ca_3       303 non-null    uint8  \n",
            " 23  ca_4       303 non-null    uint8  \n",
            " 24  thal_0     303 non-null    uint8  \n",
            " 25  thal_1     303 non-null    uint8  \n",
            " 26  thal_2     303 non-null    uint8  \n",
            " 27  thal_3     303 non-null    uint8  \n",
            "dtypes: float64(1), int64(8), uint8(19)\n",
            "memory usage: 27.1 KB\n"
          ]
        }
      ],
      "source": [
        "df.info()"
      ]
    },
    {
      "cell_type": "code",
      "execution_count": 57,
      "id": "lFfuamhqroQL",
      "metadata": {
        "id": "lFfuamhqroQL"
      },
      "outputs": [],
      "source": [
        "ddf = df.drop(['age', 'sex', 'trestbps', 'chol', 'fbs', 'thalach', 'exang', 'oldpeak', 'target'], axis=1)\n",
        "index_dict = dict(zip(ddf.columns,range(ddf.shape[1])))"
      ]
    },
    {
      "cell_type": "code",
      "execution_count": 58,
      "id": "nXhjYXBBsU9m",
      "metadata": {
        "colab": {
          "base_uri": "https://localhost:8080/"
        },
        "id": "nXhjYXBBsU9m",
        "outputId": "eb54f3ee-054b-47f8-a182-c98241ccb974"
      },
      "outputs": [
        {
          "data": {
            "text/plain": [
              "['ddf']"
            ]
          },
          "execution_count": 58,
          "metadata": {},
          "output_type": "execute_result"
        }
      ],
      "source": [
        "joblib.dump(index_dict, 'ddf') "
      ]
    },
    {
      "cell_type": "code",
      "execution_count": 59,
      "id": "kXgIn-MXc3gq",
      "metadata": {
        "colab": {
          "base_uri": "https://localhost:8080/"
        },
        "id": "kXgIn-MXc3gq",
        "outputId": "edc3a1a1-e97e-4a91-cf2b-b0cc46479847"
      },
      "outputs": [
        {
          "name": "stdout",
          "output_type": "stream",
          "text": [
            "[0.77083333 1.         0.16981132 0.19634703 0.         0.46564885\n",
            " 1.         0.01612903 1.         0.         0.         0.\n",
            " 1.         0.         0.         0.         0.         1.\n",
            " 0.         1.         0.         0.         0.         0.\n",
            " 0.         1.         0.        ]\n",
            "Actual:  0\n",
            "Predicted:  0\n"
          ]
        }
      ],
      "source": [
        "model = joblib.load('model.pkl')\n",
        "test_data = pd.DataFrame(X_test)\n",
        "pred = model.predict([test_data.values[18]])\n",
        "\n",
        "print(test_data.values[18])\n",
        "print('Actual: ', Y_test.values[18])\n",
        "print('Predicted: ',pred[0])"
      ]
    }
  ],
  "metadata": {
    "colab": {
      "collapsed_sections": [
        "zGXIhTtfaPMe",
        "UQ5YnAIHatsm",
        "YOrNfKEoa84X",
        "HHCOEa2PbDFe",
        "a66Uh1oKbMjh",
        "121EWBKubSme",
        "f3K8nyKfbq75",
        "n0lJbKW8jB_E",
        "xU_2ZadijKN7",
        "jTI4Ie-wjRtT",
        "rXfepfP1jet3",
        "ZVavroAZRqK2",
        "Yzoyu9olmq6J",
        "qN7kGhhD-k6J",
        "iHKvdTGD-tSl",
        "JC7jxLtv_DDH",
        "os1RydgWC4Ij",
        "X2IKvTrfDy7o",
        "f78RKDkeEvFA",
        "cY7OD-LLE3Yk",
        "V0gAG_DYGcFK",
        "ks83hBKhGovV",
        "M3DSnv90G4UA",
        "l0-scCrZHzwG",
        "KiwF2s9ZBBCj",
        "8QFxFI8KeRB8",
        "1kIZRSAymQu8"
      ],
      "provenance": []
    },
    "kernelspec": {
      "display_name": "Python 3 (ipykernel)",
      "language": "python",
      "name": "python3"
    },
    "language_info": {
      "codemirror_mode": {
        "name": "ipython",
        "version": 3
      },
      "file_extension": ".py",
      "mimetype": "text/x-python",
      "name": "python",
      "nbconvert_exporter": "python",
      "pygments_lexer": "ipython3",
      "version": "3.10.8"
    }
  },
  "nbformat": 4,
  "nbformat_minor": 5
}
